{
 "cells": [
  {
   "cell_type": "markdown",
   "metadata": {},
   "source": [
    "# Алгоритмы интеллектуальной обработки больших объемов данных\n",
    "## Домашнее задание №2: Линейные модели\n"
   ]
  },
  {
   "cell_type": "markdown",
   "metadata": {},
   "source": [
    "**Общая информация**\n",
    "\n",
    "**Срок сдачи:** 25 апреля 18:00 Сдача **очная** на онлайн занятии.\n",
    "\n",
    "\n",
    "Используйте данный Ipython Notebook при оформлении домашнего задания.\n",
    "\n",
    "Присылать ДЗ необходимо в виде ссылки на свой github репозиторий на почту ml1.sphere@mail.ru с указанием темы в следующем формате:\n",
    "\n",
    "[ML0422, Задание 2] Фамилия Имя.\n",
    "\n",
    "\n",
    "\n",
    "**Штрафные баллы:**\n",
    "\n",
    "1. Невыполнение PEP8 -1 балл\n",
    "2. Отсутствие фамилии в имени скрипта (скрипт должен называться по аналогии со stroykova_hw2.ipynb) -1 балл\n",
    "3. Все строчки должны быть выполнены. Нужно, чтобы output команды можно было увидеть уже в git'е. В противном случае -1 балл\n",
    "4. При оформлении ДЗ нужно пользоваться данным файлом в качестве шаблона. Не нужно удалять и видоизменять написанный код и текст, если явно не указана такая возможность. В противном случае -1 балл\n",
    "<hr\\>"
   ]
  },
  {
   "cell_type": "code",
   "execution_count": 1,
   "metadata": {
    "tags": []
   },
   "outputs": [],
   "source": [
    "import pandas as pd\n",
    "import numpy as np\n",
    "import matplotlib.pyplot as plt\n",
    "from sklearn.ensemble import GradientBoostingClassifier\n",
    "from catboost import CatBoostClassifier\n",
    "\n",
    "%matplotlib inline\n",
    "\n",
    "plt.style.use('ggplot')\n",
    "plt.rcParams['figure.figsize'] = (12,5)"
   ]
  },
  {
   "cell_type": "markdown",
   "metadata": {},
   "source": [
    "Здравствуйте, уважаемые студенты! \n",
    "\n",
    "В этом задании мы будем реализовать линейные модели. Необходимо реализовать линейную и логистическую регрессии с L2 регуляризацией"
   ]
  },
  {
   "cell_type": "markdown",
   "metadata": {},
   "source": [
    "# Теоретическое введение\n",
    "\n"
   ]
  },
  {
   "cell_type": "markdown",
   "metadata": {},
   "source": [
    "Линейная регрессия решает задачу регрессии и оптимизирует функцию потерь MSE \n",
    "\n",
    "$$L(w) =  \\frac{1}{N}\\left[\\sum_i (y_i - a_i) ^ 2 \\right], $$ где $y_i$ $-$ целевая функция,  $a_i = a(x_i) =  \\langle\\,x_i,w\\rangle ,$ $-$ предсказание алгоритма на объекте $x_i$, $w$ $-$ вектор весов (размерности $D$), $x_i$ $-$ вектор признаков (такой же размерности $D$).\n",
    "\n",
    "Не забываем, что здесь и далее  мы считаем, что в $x_i$ есть тождественный вектор единиц, ему соответствует вес $w_0$.\n"
   ]
  },
  {
   "cell_type": "markdown",
   "metadata": {},
   "source": [
    "Логистическая регрессия является линейным классификатором, который оптимизирует так называемый функционал log loss:"
   ]
  },
  {
   "cell_type": "markdown",
   "metadata": {},
   "source": [
    "$$L(w) = - \\frac{1}{N}\\left[\\sum_i y_i \\log a_i + ( 1 - y_i) \\log (1 - a_i) \\right],$$\n",
    "где  $y_i  \\in \\{0,1\\}$ $-$ метка класса, $a_i$ $-$ предсказание алгоритма на объекте $x_i$. Модель пытается предсказать апостериорую вероятность объекта принадлежать к классу \"1\":\n",
    "$$ p(y_i = 1 | x_i) = a(x_i) =  \\sigma( \\langle\\,x_i,w\\rangle ),$$\n",
    "$w$ $-$ вектор весов (размерности $D$), $x_i$ $-$ вектор признаков (такой же размерности $D$).\n",
    "\n",
    "Функция $\\sigma(x)$ $-$ нелинейная функция, пероводящее скалярное произведение объекта на веса в число $\\in (0,1)$ (мы же моделируем вероятность все-таки!)\n",
    "\n",
    "$$\\sigma(x) = \\frac{1}{1 + \\exp(-x)}$$\n",
    "\n",
    "Если внимательно посмотреть на функцию потерь, то можно заметить, что в зависимости от правильного ответа алгоритм штрафуется или функцией $-\\log a_i$, или функцией $-\\log (1 - a_i)$.\n",
    "\n"
   ]
  },
  {
   "cell_type": "markdown",
   "metadata": {},
   "source": [
    "Часто для решения проблем, которые так или иначе связаны с проблемой переобучения, в функционал качества добавляют слагаемое, которое называют ***регуляризацией***. Итоговый функционал для линейной регрессии тогда принимает вид:\n",
    "\n",
    "$$L(w) =  \\frac{1}{N}\\left[\\sum_i (y_i - a_i) ^ 2 \\right] + \\frac{1}{C}R(w) $$\n",
    "\n",
    "Для логистической: \n",
    "$$L(w) = - \\frac{1}{N}\\left[\\sum_i y_i \\log a_i + ( 1 - y_i) \\log (1 - a_i) \\right] +  \\frac{1}{C}R(w)$$\n",
    "\n",
    "Самое понятие регуляризации введено основателем ВМК академиком Тихоновым https://ru.wikipedia.org/wiki/Метод_регуляризации_Тихонова\n",
    "\n",
    "Идейно методика регуляризации заключается в следующем $-$ мы рассматриваем некорректно поставленную задачу (что это такое можно найти в интернете), для того чтобы сузить набор различных вариантов (лучшие из которых будут являться переобучением ) мы вводим дополнительные ограничения на множество искомых решений. На лекции Вы уже рассмотрели два варианта регуляризации.\n",
    "\n",
    "$L1$ регуляризация:\n",
    "$$R(w) = \\sum_{j=1}^{D}|w_j|$$\n",
    "$L2$ регуляризация:\n",
    "$$R(w) =  \\sum_{j=1}^{D}w_j^2$$\n",
    "\n",
    "С их помощью мы ограничиваем модель в  возможности выбора каких угодно весов минимизирующих наш лосс, модель уже не сможет подстроиться под данные как ей угодно. \n",
    "\n",
    "Вам нужно добавить соотвествущую Вашему варианту $L2$ регуляризацию.\n",
    "\n",
    "И так, мы поняли, какую функцию ошибки будем минимизировать, разобрались, как получить предсказания по объекту и обученным весам. Осталось разобраться, как получить оптимальные веса. Для этого нужно выбрать какой-то метод оптимизации.\n",
    "\n"
   ]
  },
  {
   "cell_type": "markdown",
   "metadata": {},
   "source": [
    "Градиентный спуск является самым популярным алгоритмом обучения линейных моделей. В этом задании Вам предложат реализовать стохастический градиентный спуск или  мини-батч градиентный спуск (мини-батч на русский язык довольно сложно перевести, многие переводят это как \"пакетный\", но мне не кажется этот перевод удачным). Далее нам потребуется определение **эпохи**.\n",
    "Эпохой в SGD и MB-GD называется один проход по **всем** объектам в обучающей выборки.\n",
    "* В SGD градиент расчитывается по одному случайному объекту. Сам алгоритм выглядит примерно так:\n",
    "        1) Перемешать выборку\n",
    "        2) Посчитать градиент функции потерь на одном объекте (далее один объект тоже будем называть батчем)\n",
    "        3) Сделать шаг спуска\n",
    "        4) Повторять 2) и 3) пока не пройдет максимальное число эпох.\n",
    "* В Mini Batch SGD - по подвыборке объектов. Сам алгоритм выглядит примерно так::\n",
    "        1) Перемешать выборку, выбрать размер мини-батча (от 1 до размера выборки)\n",
    "        2) Почитать градиент функции потерь по мини-батчу (не забыть поделить на  число объектов в мини-батче)\n",
    "        3) Сделать шаг спуска\n",
    "        4) Повторять 2) и 3) пока не пройдет максимальное число эпох.\n",
    "* Для отладки алгоритма реализуйте возможность  вывода средней ошибки на обучении модели по объектам (мини-батчам). После шага градиентного спуска посчитайте значение ошибки на объекте (или мини-батче), а затем усредните, например, по ста шагам. Если обучение проходит корректно, то мы должны увидеть, что каждые 100 шагов функция потерь уменьшается. \n",
    "* Правило останова - максимальное количество эпох\n",
    "    \n"
   ]
  },
  {
   "cell_type": "markdown",
   "metadata": {},
   "source": [
    "# Теоретические вопросы (2 балла)\n",
    "В этой части Вам будут предложены теоретичские вопросы и задачи по теме. Вы, конечно, можете списать их у своего товарища или найти решение в интернете, но учтите, что они обязательно войдут в теоретический коллоквиум. Лучше разобраться в теме сейчас и успешно ответить на коллоквиуме, чем списать, не разобравшись в материале, и быть терзаемым совестью. \n",
    "\n",
    "\n",
    "Формулы надо оформлять в формате **LaTeX**."
   ]
  },
  {
   "cell_type": "markdown",
   "metadata": {},
   "source": [
    "Задача 1. Градиент для линейной регрессии.\n",
    "* Выпишите формулу обновления весов для линейной регрессии с L2 регуляризацией для мини-батч градиентого спуска размера $n$:\n",
    "\n",
    "$$ w_{new} = w_{old} - ... $$\n",
    "\n",
    "\n",
    " Отнеситесь к этому пункту максимально серьезно, это Вам нужно будет реализовать в задании.\n",
    " \n",
    "Проанализруйте итоговую формулу градиента - как  интуитивно можно  описать, чему равен градиент?\n"
   ]
  },
  {
   "cell_type": "markdown",
   "metadata": {},
   "source": [
    "***Ваше решение здесь***\n",
    "$$ w_{new} = w_{old} - \\frac{2}{n}X^T(XW-Y)-\\frac{2}{C}W $$\n",
    "$$ X[n, k], W[k, 1], Y[n, 1] $$"
   ]
  },
  {
   "cell_type": "markdown",
   "metadata": {},
   "source": [
    "Задача 2. Градиент для логистической регрессии.\n",
    "* Выпишите формулу обновления весов для логистической регрессии с L2 регуляризацией  для мини-батч градиентого спуска размера $n$:\n",
    "\n",
    "$$ w_{new} = w_{old} - ...$$\n",
    "\n",
    " Отнеситесь к этому пункту максимально серьезно, это Вам нужно будет реализовать в задании.\n",
    " \n",
    "Проанализруйте итоговую формулу градиента - как  интуитивно можно  описать, чему равен градиент? Как соотносится этот градиент с градиентом, возникающий в задаче линейной регрессии?\n",
    "\n",
    "Подсказка: Вам градиент, которой получается если “в лоб” продифференцировать,  надо немного преобразовать.\n",
    "Надо подставить, что $1 - \\sigma(w,x) $ это  $1 - a(x_i)$, а  $-\\sigma(w,x)$ это $0 - a(x_i)$.  Тогда получится свести к одной красивой формуле с линейной регрессией, которую программировать будет намного проще.\n"
   ]
  },
  {
   "cell_type": "markdown",
   "metadata": {},
   "source": [
    "***Ваше решение здесь***\n",
    "$$ w_{new} = w_{old} - \\frac{1}{n} X^T(\\sigma(XW) - Y) - \\frac{2}{C}W$$\n",
    "$$ X[n, k], W[k, 1], Y[n, 1] $$\n"
   ]
  },
  {
   "cell_type": "markdown",
   "metadata": {},
   "source": [
    "Задача 3. Точное решение линейной регрессии\n",
    "\n",
    "На лекции было показано, что точное решение линейной регрессии имеет вид $w = (X^TX)^{-1}X^TY $. \n",
    "* Покажите, что это действительно является точкой минимума в случае, если матрица X имеет строк не меньше, чем столбцов и имеет полный ранг. Подсказка: посчитайте Гессиан и покажите, что в этом случае он положительно определен. \n",
    "* Выпишите точное решение для модели с $L2$ регуляризацией. Как L2 регуляризация помогает с точным решением где матрица X имеет линейно зависимые признаки?"
   ]
  },
  {
   "cell_type": "markdown",
   "metadata": {},
   "source": [
    "***Ваше решение здесь***\n",
    "\n",
    "$$ \\nabla_w \\left[ -X^TY + (X^TX)w \\right] > 0$$\n",
    "$$  X^TX > 0$$\n",
    "$ X^TX $ - симметричная матрица. \n",
    "Симметричная матрица A размерностью k называется положительно определённой если $$ {\\displaystyle \\forall z\\in \\mathbb {R} ^{k}\\setminus \\{\\mathbf {0} \\}}{\\displaystyle \\forall z\\in \\mathbb {R} ^{k}\\setminus \\{\\mathbf {0} \\}:}  {\\displaystyle z^{T}Az>0.}$$\n",
    "\n",
    "$$ z^TX^TXz = (Xz)^T(Xz) = ||Xz||^2 > 0, z\\neq0$$"
   ]
  },
  {
   "cell_type": "markdown",
   "metadata": {},
   "source": [
    "Задача 4.  Предсказываем вероятности.\n",
    "\n",
    "Когда говорят о логистической регрессии, произносят фразу, что она \"предсказывает вероятности положительного класса\". Давайте разберемся, что же за этим стоит. Посчитаем математическое ожидание функции потерь и проверим, что предсказание алгоритма, оптимизирующее это мат. ожидание, будет являться вероятностью положительного класса. \n",
    "\n",
    "И так, функция потерь на объекте $x_i$, который имеет метку $y_i \\in \\{0,1\\}$  для предсказания $a(x_i)$ равна:\n",
    "$$L(y_i, b) =-[y_i == 1] \\log a(x_i)  - [y_i == 0] \\log(1 - a(x_i)) $$\n",
    "\n",
    "Где $[]$ означает индикатор $-$ он равен единице, если значение внутри него истинно, иначе он равен нулю. Тогда мат. ожидание при условии конкретного $x_i$  по определение мат. ожидания дискретной случайной величины:\n",
    "$$E(L | x_i) = -p(y_i = 1 |x_i ) \\log a(x_i)  - p(y_i = 0 | x_i) \\log( 1 - a(x_i))$$\n",
    "* Докажите, что значение $a(x_i)$, минимизирующее данное мат. ожидание, в точности равно $p(y_i = 1 |x_i)$, то есть равно вероятности положительного класса.\n",
    "\n",
    "Подсказка: возможно, придется воспользоваться, что  $p(y_i = 1 | x_i) + p(y_i = 0 | x_i) = 1$"
   ]
  },
  {
   "cell_type": "markdown",
   "metadata": {},
   "source": [
    "***Ваше решение здесь***\n",
    "\n",
    "$$\\nabla_a E = -\\frac{p(y_i = 1 |x_i )}{a(x_i)} + \\frac{1 - p(y_i = 1 |x_i )}{1-a(x_i)} = 0$$\n",
    "$$a(x_i) = p(y_i = 1 |x_i )$$\n",
    "\n",
    "$$ \\nabla_a [-p(y_i = 1 | x_i) \\frac{1}{a(x_i)} - (1 - p(y_i = 1 | x_i)) \\frac{-1}{1 - a(x_i)}] > 0 $$\n",
    "$$ \\frac{1 - p(y_i = 1 | x_i)}{(a(x_i) - 1)^2} > -\\frac{p(y_i = 1 | x_i)}{a(x_i)^2} \\quad \\blacksquare $$"
   ]
  },
  {
   "cell_type": "markdown",
   "metadata": {},
   "source": [
    "Задача 5.  Смысл регуляризации.\n",
    "\n",
    "Нужно ли в L1/L2 регуляризации использовать свободный член $w_0$ (который не умножается ни на какой признак)?\n",
    "\n",
    "Подсказка: подумайте, для чего мы вводим $w_0$"
   ]
  },
  {
   "cell_type": "markdown",
   "metadata": {},
   "source": [
    "***Ваше решение здесь***\n",
    "$$$$\n",
    "w0 выполняет роль смещения ($ y = w^Tx + w_0$), если мы будем его регуляризировать, то наши предсказания просто будут неправильно смещаться"
   ]
  },
  {
   "cell_type": "markdown",
   "metadata": {},
   "source": [
    "#  Реализация линейной модели (4 балла)"
   ]
  },
  {
   "cell_type": "markdown",
   "metadata": {},
   "source": [
    "## Зачем нужны батчи?\n"
   ]
  },
  {
   "cell_type": "markdown",
   "metadata": {},
   "source": [
    "Как Вы могли заметить из теоретического введения, что в случае SGD, что в случа mini-batch GD,  на каждой итерации обновление весов  происходит только по небольшой части данных (1 пример в случае SGD, batch примеров в случае mini-batch). То есть для каждой итерации нам *** не нужна вся выборка***. Мы можем просто итерироваться по выборке, беря батч нужного размера (далее 1 объект тоже будем называть батчом).\n",
    "\n",
    "Легко заметить, что в этом случае нам не нужно загружать все данные в оперативную память, достаточно просто считать батч с диска, обновить веса, считать диска другой батч и так далее. В целях упрощения домашней работы, прямо с диска  мы считывать не будем, будем работать с обычными numpy array. \n",
    "\n",
    "\n",
    "\n"
   ]
  },
  {
   "cell_type": "markdown",
   "metadata": {},
   "source": [
    "## Немножко про генераторы в Python\n",
    "\n"
   ]
  },
  {
   "cell_type": "markdown",
   "metadata": {},
   "source": [
    "Идея считывания данных кусками удачно ложится на так называемые ***генераторы*** из языка Python. В данной работе Вам предлагается не только разобраться с логистической регрессией, но  и познакомиться с таким важным элементом языка.  При желании Вы можете убрать весь код, связанный с генераторами, и реализовать логистическую регрессию и без них, ***штрафоваться это никак не будет***. Главное, чтобы сама модель была реализована правильно, и все пункты были выполнены. \n",
    "\n",
    "Подробнее можно почитать вот тут https://anandology.com/python-practice-book/iterators.html\n"
   ]
  },
  {
   "cell_type": "markdown",
   "metadata": {},
   "source": [
    "К генератору стоит относиться просто как к функции, которая порождает не один объект, а целую последовательность объектов. Новое значение из последовательности генерируется с помощью ключевого слова ***yield***. Ниже Вы можете насладиться  генератором чисел Фибоначчи."
   ]
  },
  {
   "cell_type": "code",
   "execution_count": 2,
   "metadata": {
    "collapsed": true,
    "jupyter": {
     "outputs_hidden": true
    }
   },
   "outputs": [],
   "source": [
    "def fib(max_iter=4):\n",
    "    a, b = 0, 1\n",
    "    iter_num = 0\n",
    "    while 1:\n",
    "        yield a\n",
    "        a, b = b, a + b\n",
    "        iter_num += 1\n",
    "        if iter_num == max_iter:\n",
    "            break"
   ]
  },
  {
   "cell_type": "markdown",
   "metadata": {},
   "source": [
    "Вот так можно сгенерировать последовательность Фибоначчи. \n",
    "\n",
    "Заметьте, что к генераторам можно применять некоторые стандартные функции из Python, например enumerate."
   ]
  },
  {
   "cell_type": "code",
   "execution_count": 3,
   "metadata": {},
   "outputs": [
    {
     "name": "stdout",
     "output_type": "stream",
     "text": [
      "Fib num: 0 fib values: 0\n",
      "Fib num: 1 fib values: 1\n",
      "Fib num: 2 fib values: 1\n",
      "Fib num: 3 fib values: 2\n"
     ]
    }
   ],
   "source": [
    "new_generator = fib()\n",
    "for j, fib_val in enumerate(new_generator):\n",
    "    print (\"Fib num: \" + str(j) + \" fib values: \" + str(fib_val))"
   ]
  },
  {
   "cell_type": "markdown",
   "metadata": {},
   "source": [
    "Пересоздавая объект, можно сколько угодно раз генерировать заново последовательность. "
   ]
  },
  {
   "cell_type": "code",
   "execution_count": 4,
   "metadata": {},
   "outputs": [
    {
     "name": "stdout",
     "output_type": "stream",
     "text": [
      "Fib num: 0 fib values: 0\n",
      "Fib num: 1 fib values: 1\n",
      "Fib num: 2 fib values: 1\n",
      "Fib num: 3 fib values: 2\n",
      "Fib num: 0 fib values: 0\n",
      "Fib num: 1 fib values: 1\n",
      "Fib num: 2 fib values: 1\n",
      "Fib num: 3 fib values: 2\n",
      "Fib num: 0 fib values: 0\n",
      "Fib num: 1 fib values: 1\n",
      "Fib num: 2 fib values: 1\n",
      "Fib num: 3 fib values: 2\n"
     ]
    }
   ],
   "source": [
    "for i in range(0, 3):\n",
    "    new_generator = fib()\n",
    "    for j, fib_val in enumerate(new_generator):\n",
    "        print (\"Fib num: \" + str(j) + \" fib values: \" + str(fib_val))"
   ]
  },
  {
   "cell_type": "markdown",
   "metadata": {},
   "source": [
    "А вот так уже нельзя."
   ]
  },
  {
   "cell_type": "code",
   "execution_count": 5,
   "metadata": {},
   "outputs": [
    {
     "name": "stdout",
     "output_type": "stream",
     "text": [
      "Fib num: 0 fib values: 0\n",
      "Fib num: 1 fib values: 1\n",
      "Fib num: 2 fib values: 1\n",
      "Fib num: 3 fib values: 2\n"
     ]
    }
   ],
   "source": [
    "new_generator = fib()\n",
    "for i in range(0, 3):\n",
    "    for j, fib_val in enumerate(new_generator):\n",
    "        print (\"Fib num: \" + str(j) + \" fib values: \" + str(fib_val))"
   ]
  },
  {
   "cell_type": "markdown",
   "metadata": {},
   "source": [
    "Концепция крайне удобная для обучения  моделей $-$ у Вас есть некий источник данных, который Вам выдает их кусками, и Вам совершенно все равно откуда он их берет. Под ним может скрывать как массив в оперативной памяти, как файл на жестком диске, так и SQL база данных. Вы сами данные никуда не сохраняете, оперативную память экономите."
   ]
  },
  {
   "cell_type": "markdown",
   "metadata": {},
   "source": [
    "Если Вам понравилась идея с генераторами, то Вы можете реализовать свой, используя прототип batch_generator. В нем Вам нужно выдавать батчи признаков и ответов для каждой новой итерации спуска. Если не понравилась идея, то можете реализовывать SGD или mini-batch GD без генераторов."
   ]
  },
  {
   "cell_type": "code",
   "execution_count": 118,
   "metadata": {
    "collapsed": true,
    "jupyter": {
     "outputs_hidden": true
    }
   },
   "outputs": [],
   "source": [
    "from sklearn import utils\n",
    "import numpy as np\n",
    "def batch_generator(X, y, shuffle=True, batch_size=1):\n",
    "    \"\"\"\n",
    "    Гератор новых батчей для обучения\n",
    "    X          - матрица объекты-признаки\n",
    "    y_batch    - вектор ответов\n",
    "    shuffle    - нужно ли случайно перемешивать выборку\n",
    "    batch_size - размер батча ( 1 это SGD, > 1 mini-batch GD)\n",
    "    Генерирует подвыборку для итерации спуска (X_batch, y_batch)\n",
    "    \"\"\"\n",
    "    if shuffle:\n",
    "        X, y = utils.shuffle(X, y)\n",
    "    for i in np.arange(0, X.shape[0], batch_size):\n",
    "        yield (X[i:i+batch_size], y[i:i+batch_size])"
   ]
  },
  {
   "cell_type": "code",
   "execution_count": 115,
   "metadata": {
    "collapsed": true,
    "jupyter": {
     "outputs_hidden": true
    }
   },
   "outputs": [],
   "source": [
    "#%%pycodestyle\n",
    "\n",
    "def sigmoid(x):\n",
    "    \"\"\"\n",
    "    Вычисляем значение сигмоида.\n",
    "    X - выход линейной модели\n",
    "    \"\"\"\n",
    "    return 1/(1+np.exp(-x))\n",
    "\n",
    "\n",
    "from sklearn.base import BaseEstimator, ClassifierMixin\n",
    "\n",
    "class MySGDClassifier(BaseEstimator, ClassifierMixin):\n",
    "    \n",
    "    def __init__(self, batch_generator,\n",
    "                C=1, \n",
    "                C1 = 0.1,\n",
    "                alpha=0.01, \n",
    "                max_epoch=50, \n",
    "                batch_size=25, \n",
    "                model_type='lin_reg'):\n",
    "        \"\"\"\n",
    "        batch_generator -- функция генератор, которой будем создавать батчи\n",
    "        C - коэф. регуляризации\n",
    "        alpha - скорость спуска\n",
    "        max_epoch - максимальное количество эпох\n",
    "        model_type - тим модели, lin_reg или log_reg\n",
    "        \"\"\"\n",
    "        \n",
    "        self.C = C\n",
    "        self.C1 = C1\n",
    "        self.alpha = alpha\n",
    "        self.max_epoch = max_epoch\n",
    "        self.batch_size = batch_size\n",
    "        self.batch_generator = batch_generator\n",
    "        self.errors_log = {'iter' : [], 'loss' : []}  \n",
    "        self.model_type = model_type\n",
    "        \n",
    "    def calc_loss(self, X_batch, y_batch):\n",
    "        \"\"\"\n",
    "        Считаем функцию потерь по батчу \n",
    "        X_batch - матрица объекты-признаки по батчу\n",
    "        y_batch - вектор ответов по батчу\n",
    "        Не забудте тип модели (линейная или логистическая регрессия)!\n",
    "        \"\"\"\n",
    "        y_batch = y_batch.reshape((-1,1))\n",
    "        pred = X_batch.dot(self.weights)\n",
    "        if self.model_type == 'lin_reg':\n",
    "            loss =  (pred - y_batch).T.dot(pred - y_batch)\n",
    "        if self.model_type == 'log_reg':\n",
    "            loss = np.sum(-y_batch*np.log(sigmoid(pred)) - (1 - y_batch)*np.log(1 - sigmoid(pred)))\n",
    "        loss = loss / X_batch.shape[0] + 1/self.C * self.weights.T.dot(self.weights) + 1 / self.C1 * self.weights\n",
    "        return loss\n",
    "    \n",
    "    def calc_loss_grad(self, X_batch, y_batch):\n",
    "        \"\"\"\n",
    "        Считаем  градиент функции потерь по батчу (то что Вы вывели в задании 1)\n",
    "        X_batch - матрица объекты-признаки по батчу\n",
    "        y_batch - вектор ответов по батчу\n",
    "        Не забудте тип модели (линейная или логистическая регрессия)!\n",
    "        \"\"\"\n",
    "        y_batch = y_batch.reshape((-1,1))\n",
    "        pred = X_batch.dot(self.weights)\n",
    "        if self.model_type == 'lin_reg': \n",
    "            cur = X_batch.T.dot(pred - y_batch) * 2 #2((w, x) - y)*x\n",
    "        if self.model_type == 'log_reg':\n",
    "            cur = X_batch.T.dot(sigmoid(pred) - y_batch) # -y(1 - si(xw))x + (1-y)si(xw)x = (si(xw) - y)x\n",
    "        loss_grad = cur/ X_batch.shape[0] + 2 / self.C * self.weights + 1 / self.C1\n",
    "        return loss_grad\n",
    "    \n",
    "    def update_weights(self, new_grad):\n",
    "        \"\"\"\n",
    "        Обновляем вектор весов\n",
    "        new_grad - градиент по батчу\n",
    "        \"\"\"\n",
    "        self.weights -= self.alpha*new_grad\n",
    "    \n",
    "    def fit(self, X, y):\n",
    "        '''\n",
    "        Обучение модели\n",
    "        X - матрица объекты-признаки\n",
    "        y - вектор ответов\n",
    "        '''\n",
    "        \n",
    "        alpha = self.alpha\n",
    "        N = X.shape[1] + 1\n",
    "        self.weights = np.random.uniform(-1/N, 1/N, N).reshape((-1, 1))\n",
    "        for n in range(0, self.max_epoch):\n",
    "            new_epoch_generator = self.batch_generator(X, y, batch_size = self.batch_size)\n",
    "            for batch_num, (X_batch, y_batch) in enumerate(new_epoch_generator):\n",
    "                X_batch = np.append(X_batch, np.ones((X_batch.shape[0], 1)), axis=1)\n",
    "                batch_loss = self.calc_loss(X_batch, y_batch)\n",
    "                batch_grad = self.calc_loss_grad(X_batch, y_batch)\n",
    "                self.update_weights(batch_grad)\n",
    "                self.errors_log['iter'].append(batch_num)\n",
    "                self.errors_log['loss'].append(batch_loss)\n",
    "            self.alpha = alpha/(n + 1)**0.5\n",
    "        self.alpha = alpha\n",
    "        return self\n",
    "        \n",
    "    def predict(self, X):\n",
    "        '''\n",
    "        Предсказание класса\n",
    "        X - матрица объекты-признаки\n",
    "        Не забудте тип модели (линейная или логистическая регрессия)!\n",
    "        '''\n",
    "        X = np.append(X, np.ones((X.shape[0], 1)), axis=1)\n",
    "        pred = X.dot(self.weights)\n",
    "        if self.model_type == 'log_reg':\n",
    "            pred = sigmoid(pred)\n",
    "        return np.round(pred).astype('int')"
   ]
  },
  {
   "cell_type": "markdown",
   "metadata": {},
   "source": [
    "Запустите обе регрессии на синтетических данных. \n",
    "\n",
    "\n",
    "Выведите полученные веса и нарисуйте разделяющую границу между классами (используйте только первых два веса для первых двух признаков X[:,0], X[:,1] для отображения в 2d пространство ).  "
   ]
  },
  {
   "cell_type": "code",
   "execution_count": 8,
   "metadata": {
    "collapsed": true,
    "jupyter": {
     "outputs_hidden": true
    }
   },
   "outputs": [],
   "source": [
    "#sigmoid(0) = 0.5 -> x*w[0] + y*w[1] + w[2] = 0 -> y = ...\n",
    "# z = 0.5 = x*w[0] + y*w[1] + w[2] -> y = ...\n",
    "def plot_decision_boundary(clf):\n",
    "    x = np.linspace(-5, 8, num=2)\n",
    "    if clf.model_type == 'log_reg':\n",
    "        y = (-clf.weights[0] * x - clf.weights[2]) / clf.weights[1] \n",
    "    if clf.model_type == 'lin_reg':\n",
    "        y = (0.5-clf.weights[0] * x - clf.weights[2]) / clf.weights[1] \n",
    "    plt.plot(x, y, label=clf.model_type)"
   ]
  },
  {
   "cell_type": "code",
   "execution_count": 9,
   "metadata": {},
   "outputs": [
    {
     "name": "stdout",
     "output_type": "stream",
     "text": [
      "Linear regression weights:\t[[ 0.12143156 -0.09356377  0.01224355]]\n",
      "\n",
      "Logistic regression weights:\t[[ 1.84455518 -1.86912008 -7.54520692]]\n"
     ]
    },
    {
     "name": "stderr",
     "output_type": "stream",
     "text": [
      "/var/folders/hn/27s2_wp90fn1jnqs60qbkgy40000gn/T/ipykernel_9224/3181138397.py:51: RuntimeWarning: divide by zero encountered in log\n",
      "  loss = np.sum(-y_batch*np.log(sigmoid(pred)) - (1 - y_batch)*np.log(1 - sigmoid(pred)))\n",
      "/var/folders/hn/27s2_wp90fn1jnqs60qbkgy40000gn/T/ipykernel_9224/3181138397.py:51: RuntimeWarning: invalid value encountered in multiply\n",
      "  loss = np.sum(-y_batch*np.log(sigmoid(pred)) - (1 - y_batch)*np.log(1 - sigmoid(pred)))\n"
     ]
    },
    {
     "data": {
      "text/plain": [
       "<matplotlib.legend.Legend at 0x14067be50>"
      ]
     },
     "execution_count": 9,
     "metadata": {},
     "output_type": "execute_result"
    },
    {
     "data": {
      "image/png": "[encoded data removed]",
      "text/plain": [
       "<Figure size 864x360 with 1 Axes>"
      ]
     },
     "metadata": {},
     "output_type": "display_data"
    }
   ],
   "source": [
    "np.random.seed(0)\n",
    "\n",
    "C1 = np.array([[0., -0.8], [1.5, 0.8]])\n",
    "C2 = np.array([[1., -0.7], [2., 0.7]])\n",
    "gauss1 = np.dot(np.random.randn(200, 2) + np.array([5, 3]), C1)\n",
    "gauss2 = np.dot(np.random.randn(200, 2) + np.array([1.5, 0]), C2)\n",
    "\n",
    "X = np.vstack([gauss1, gauss2])\n",
    "y = np.r_[np.ones(200), np.zeros(200)]\n",
    "\n",
    "reg = MySGDClassifier(batch_generator=batch_generator, C=1, C1 = 10000,\n",
    "                             alpha=0.1, max_epoch=100, model_type='lin_reg')\n",
    "reg.fit(X, y)\n",
    "print('Linear regression weights:\\t{}'.format(np.reshape(reg.weights, (1, -1))), end='\\n\\n')\n",
    "plot_decision_boundary(reg)\n",
    "\n",
    "log = MySGDClassifier(batch_generator=batch_generator, C=10000, C1 = 10000,\n",
    "                             alpha=10, batch_size=400, model_type='log_reg')\n",
    "log.fit(X, y)\n",
    "print('Logistic regression weights:\\t{}'.format(np.reshape(log.weights, (1,-1))))\n",
    "plot_decision_boundary(log)\n",
    "\n",
    "plt.scatter(X[:, 0], X[:, 1], c=y)\n",
    "plt.legend()"
   ]
  },
  {
   "cell_type": "markdown",
   "metadata": {},
   "source": [
    "Далее будем анализировать Ваш алгоритм. \n",
    "Для этих заданий используйте датасет ниже."
   ]
  },
  {
   "cell_type": "code",
   "execution_count": 10,
   "metadata": {
    "collapsed": true,
    "jupyter": {
     "outputs_hidden": true
    }
   },
   "outputs": [],
   "source": [
    "from sklearn.datasets import make_classification"
   ]
  },
  {
   "cell_type": "code",
   "execution_count": 11,
   "metadata": {
    "collapsed": true,
    "jupyter": {
     "outputs_hidden": true
    }
   },
   "outputs": [],
   "source": [
    "X, y = make_classification(n_samples=100000, n_features=10, \n",
    "                           n_informative=4, n_redundant=0, \n",
    "                           random_state=123, class_sep=1.0,\n",
    "                           n_clusters_per_class=1)"
   ]
  },
  {
   "cell_type": "markdown",
   "metadata": {},
   "source": [
    "Покажите сходимости обеих регрессией на этом датасете: изобразите график  функции потерь, усредненной по $N$ шагам градиентого спуска, для разных `alpha` (размеров шага). Разные `alpha` расположите на одном графике. \n",
    "\n",
    "$N$ можно брать 10, 50, 100 и т.д. "
   ]
  },
  {
   "cell_type": "code",
   "execution_count": null,
   "metadata": {
    "collapsed": true,
    "jupyter": {
     "outputs_hidden": true
    }
   },
   "outputs": [],
   "source": [
    "N = 500\n",
    "fig, (reg_plot, log_plot) = plt.subplots(1, 2, figsize=(14, 5))\n",
    "for alpha in np.geomspace(0.01, 0.25, 5):\n",
    "    reg = MySGDClassifier(batch_generator=batch_generator, C=75000, C1 = 550,\n",
    "                                alpha=alpha, max_epoch=70, model_type='lin_reg')\n",
    "    log = MySGDClassifier(batch_generator=batch_generator, C=10000, C1 = 10000,\n",
    "                                alpha=alpha, batch_size=70, model_type='log_reg')\n",
    "\n",
    "    reg.fit(X, y)\n",
    "    x_raxis = np.arange(len(reg.errors_log['loss']) // N)\n",
    "    y_raxis = list(map(np.mean, np.array_split(reg.errors_log['loss'], len(reg.errors_log['loss']) // N)))\n",
    "    reg_plot.plot(x_raxis, y_raxis, label = alpha)\n",
    "\n",
    "    log.fit(X, y)\n",
    "    x_laxis = np.arange(len(log.errors_log['loss']) // N)\n",
    "    y_laxis = list(map(np.mean, np.array_split(log.errors_log['loss'], len(log.errors_log['loss']) // N)))\n",
    "    log_plot.plot(x_laxis, y_laxis, label = alpha)\n",
    "    \n",
    "reg_plot.grid(), log_plot.grid()\n",
    "reg_plot.legend(), log_plot.legend()\n",
    "reg_plot.set_xlabel('learning process'), log_plot.set_xlabel('learning process')\n",
    "reg_plot.set_ylim(0.035, 0.05), log_plot.set_ylim(0.05, 0.10)\n",
    "reg_plot.set_title('linear regression'), log_plot.set_title('logistic regression')"
   ]
  },
  {
   "cell_type": "markdown",
   "metadata": {},
   "source": [
    "Что Вы можете сказать про сходимость метода при различных `alpha`? Какое значение стоит выбирать для лучшей сходимости?"
   ]
  },
  {
   "cell_type": "markdown",
   "metadata": {},
   "source": [
    "Изобразите график среднего значения весов для обеих регрессий в зависимости от коеф. регуляризации С из `np.logspace(3, -3, 10)` "
   ]
  },
  {
   "cell_type": "code",
   "execution_count": null,
   "metadata": {
    "collapsed": true,
    "jupyter": {
     "outputs_hidden": true
    }
   },
   "outputs": [
    {
     "name": "stderr",
     "output_type": "stream",
     "text": [
      "/var/folders/hn/27s2_wp90fn1jnqs60qbkgy40000gn/T/ipykernel_1363/3181138397.py:52: RuntimeWarning: overflow encountered in multiply\n",
      "  loss = loss / X_batch.shape[0] + 1/self.C * self.weights.T.dot(self.weights) + 1 / self.C1 * self.weights\n",
      "/var/folders/hn/27s2_wp90fn1jnqs60qbkgy40000gn/T/ipykernel_1363/3181138397.py:68: RuntimeWarning: overflow encountered in multiply\n",
      "  loss_grad = cur/ X_batch.shape[0] + 2 / self.C * self.weights + 1 / self.C1\n",
      "/var/folders/hn/27s2_wp90fn1jnqs60qbkgy40000gn/T/ipykernel_1363/3181138397.py:76: RuntimeWarning: invalid value encountered in subtract\n",
      "  self.weights -= self.alpha*new_grad\n",
      "/var/folders/hn/27s2_wp90fn1jnqs60qbkgy40000gn/T/ipykernel_1363/3181138397.py:51: RuntimeWarning: divide by zero encountered in log\n",
      "  loss = np.sum(-y_batch*np.log(sigmoid(pred)) - (1 - y_batch)*np.log(1 - sigmoid(pred)))\n",
      "/var/folders/hn/27s2_wp90fn1jnqs60qbkgy40000gn/T/ipykernel_1363/3181138397.py:51: RuntimeWarning: invalid value encountered in multiply\n",
      "  loss = np.sum(-y_batch*np.log(sigmoid(pred)) - (1 - y_batch)*np.log(1 - sigmoid(pred)))\n",
      "/var/folders/hn/27s2_wp90fn1jnqs60qbkgy40000gn/T/ipykernel_1363/3181138397.py:8: RuntimeWarning: overflow encountered in exp\n",
      "  return 1/(1+np.exp(-x))\n",
      "/var/folders/hn/27s2_wp90fn1jnqs60qbkgy40000gn/T/ipykernel_1363/3181138397.py:65: RuntimeWarning: overflow encountered in multiply\n",
      "  cur = X_batch.T.dot(pred - y_batch) * 2 #2((w, x) - y)*x\n"
     ]
    },
    {
     "data": {
      "text/plain": [
       "(Text(0.5, 1.0, 'linear regression'), Text(0.5, 1.0, 'logistic regression'))"
      ]
     },
     "execution_count": 13,
     "metadata": {},
     "output_type": "execute_result"
    },
    {
     "data": {
      "image/png": "[encoded data removed]",
      "text/plain": [
       "<Figure size 1008x360 with 2 Axes>"
      ]
     },
     "metadata": {},
     "output_type": "display_data"
    }
   ],
   "source": [
    "fig, (reg_plot, log_plot) = plt.subplots(1, 2, figsize=(14, 5))\n",
    "x_axis = np.logspace(3, -3, 10)\n",
    "reg_y_axis, log_y_axis = np.zeros(x_axis.shape[0]), np.zeros(x_axis.shape[0])\n",
    "for i, C in enumerate(x_axis):\n",
    "    reg = MySGDClassifier(batch_generator=batch_generator, C=C, C1 = 550,\n",
    "                                alpha=0.015, max_epoch=100, model_type='lin_reg')\n",
    "    log = MySGDClassifier(batch_generator=batch_generator, C=C, C1 = 10000,\n",
    "                                alpha=0.01, batch_size=100, model_type='log_reg')\n",
    "\n",
    "    reg.fit(X, y)\n",
    "    reg_y_axis[i] = reg.weights.mean()\n",
    "\n",
    "    log.fit(X, y)\n",
    "    log_y_axis[i] = log.weights.mean()\n",
    "\n",
    "reg_plot.plot(x_axis, reg_y_axis), log_plot.plot(x_axis, log_y_axis)\n",
    "reg_plot.set_xlabel('C'), log_plot.set_xlabel('C')\n",
    "reg_plot.set_ylabel('weights mean')\n",
    "reg_plot.set_title('linear regression'), log_plot.set_title('logistic regression')"
   ]
  },
  {
   "cell_type": "markdown",
   "metadata": {},
   "source": [
    "Довольны ли Вы, насколько сильно уменьшились Ваши веса? "
   ]
  },
  {
   "cell_type": "markdown",
   "metadata": {},
   "source": [
    "# Боевое применение (4  балла)\n",
    "\n",
    "**Защита данной части возможна только при преодолении в проекте бейзлайна Handmade baseline.**"
   ]
  },
  {
   "cell_type": "markdown",
   "metadata": {},
   "source": [
    "Давайте применим модель на итоговом проекте! Датасет сделаем точно таким же образом, как было показано в project_overview.ipynb\n",
    "\n",
    "Применим обе регрессии, подберем для них параметры и сравним качество. Может быть Вы еще одновременно с решением домашней работы подрастете на лидерборде!"
   ]
  },
  {
   "cell_type": "code",
   "execution_count": 27,
   "metadata": {},
   "outputs": [],
   "source": [
    "import codecs\n",
    "from bs4 import BeautifulSoup"
   ]
  },
  {
   "cell_type": "code",
   "execution_count": 81,
   "metadata": {},
   "outputs": [
    {
     "name": "stdout",
     "output_type": "stream",
     "text": [
      "28026\n"
     ]
    }
   ],
   "source": [
    "from pymystem3 import Mystem\n",
    "import string\n",
    "from nltk.corpus import stopwords\n",
    "m = Mystem()\n",
    "\n",
    "def foo(file_path):\n",
    "    with codecs.open(file_path, 'r', 'utf-8') as f: \n",
    "        soup = BeautifulSoup(f, 'html.parser')\n",
    "        return soup.text[:soup.text.find('\\n')]\n",
    "\n",
    "def Translator(txt, m):\n",
    "    for i in string.punctuation:\n",
    "        txt = txt.replace(i, \" \")\n",
    "    cur = txt.translate(str.maketrans(' ', ' ',  \"•\"\n",
    "                                                   + '\\n' + '\\t')).lower()\n",
    "    cur = cur.translate(str.maketrans('', '', string.digits))\n",
    "    cur = m.lemmatize(cur)\n",
    "    cur = [word.strip() for word in cur if not word.strip() in stopwords.words('russian')\n",
    "                                               and not word.strip() in stopwords.words('english')\n",
    "                                               and len(word.strip()) > 2\n",
    "                                               and word.strip() != \"none\"\n",
    "                                               and word.strip()[:4] != \"http\"]\n",
    "    return \" \".join(cur)\n",
    "\n",
    "doc_to_title = {}\n",
    "with open('data/docs_titles.tsv') as f:\n",
    "    for num_line, line in enumerate(f):\n",
    "        if num_line == 0:\n",
    "            continue\n",
    "        data = line.strip().split('\\t', 1)\n",
    "        doc_id = int(data[0])\n",
    "        if len(data) == 1:\n",
    "            title = ''\n",
    "        else:\n",
    "            title = data[1]\n",
    "        doc_to_title[doc_id] = Translator(title, m)\n",
    "        # doc_to_title[doc_id] = title\n",
    "        \n",
    "for i in doc_to_title:\n",
    "    doc_to_title[i] += \" \" + str(len(doc_to_title[i].split()))\n",
    "    # path = f'content/{i}.dat'\n",
    "    # domen = foo(path)\n",
    "    # domen = domen[domen.find('.')+1:]\n",
    "    # print(domen)\n",
    "    # if len(domen) > 20: domen = \"\"\n",
    "    # doc_to_title[i] += \" \" + domen\n",
    "print(len(doc_to_title))"
   ]
  },
  {
   "cell_type": "code",
   "execution_count": 88,
   "metadata": {},
   "outputs": [
    {
     "name": "stderr",
     "output_type": "stream",
     "text": [
      "100%|██████████| 28026/28026 [40:44<00:00, 11.46it/s]  \n"
     ]
    }
   ],
   "source": [
    "for ind in tqdm(doc_to_title):\n",
    "    path = f'content/{ind}.dat'\n",
    "    domen = foo(path)\n",
    "    domen = domen[:domen.find('.')]\n",
    "    if len(domen) > 30: domen = ''\n",
    "    doc_to_title[ind] = doc_to_title[ind] + \" \" + domen"
   ]
  },
  {
   "cell_type": "code",
   "execution_count": 87,
   "metadata": {},
   "outputs": [
    {
     "data": {
      "text/plain": [
       "'goodquestion'"
      ]
     },
     "execution_count": 87,
     "metadata": {},
     "output_type": "execute_result"
    }
   ],
   "source": [
    "def foo(file_path):\n",
    "    with codecs.open(file_path, 'r', 'utf-8') as f: \n",
    "        soup = BeautifulSoup(f, 'html.parser')\n",
    "        return soup.text[:soup.text.find('\\n')]\n",
    "\n",
    "path = f'content/1002.dat'\n",
    "domen = foo(path)\n",
    "domen = domen[:domen.find('.')]\n",
    "domen"
   ]
  },
  {
   "cell_type": "code",
   "execution_count": 138,
   "metadata": {},
   "outputs": [
    {
     "data": {
      "text/plain": [
       "'ваз замена подшипник ступица нива 5 automn'"
      ]
     },
     "execution_count": 138,
     "metadata": {},
     "output_type": "execute_result"
    }
   ],
   "source": [
    "doc_to_title[15731]"
   ]
  },
  {
   "cell_type": "code",
   "execution_count": 133,
   "metadata": {
    "collapsed": true,
    "jupyter": {
     "outputs_hidden": true
    }
   },
   "outputs": [],
   "source": [
    "import pandas as pd\n",
    "train_data = pd.read_csv('data/train_groups.csv')\n",
    "traingroups_titledata = {}\n",
    "for i in range(len(train_data)):\n",
    "    new_doc = train_data.iloc[i]\n",
    "    doc_group = new_doc['group_id']\n",
    "    doc_id = new_doc['doc_id']\n",
    "    target = new_doc['target']\n",
    "    title = doc_to_title[doc_id]\n",
    "    if doc_group not in traingroups_titledata:\n",
    "        traingroups_titledata[doc_group] = []\n",
    "    traingroups_titledata[doc_group].append([doc_id, title, target])"
   ]
  },
  {
   "cell_type": "code",
   "execution_count": 134,
   "metadata": {},
   "outputs": [],
   "source": [
    "\"\"\"->profit<-\"\"\"\n",
    "import operator\n",
    "for group in traingroups_titledata:\n",
    "    group_dict = {}\n",
    "    for doc, title, target in traingroups_titledata[group]:\n",
    "        for i in title.split():\n",
    "            group_dict[i] = group_dict.get(i, 0) + 1\n",
    "    golden_title = dict(sorted(group_dict.items(), key=operator.itemgetter(1))[-10:])\n",
    "    for ind, data in enumerate(traingroups_titledata[group]):\n",
    "        data_c = data[1][:-2].split()\n",
    "        for k in set(data_c):\n",
    "            if k in golden_title:\n",
    "                # if data_c[data_c.index(k) - 1] in golden_title:\n",
    "                #     traingroups_titledata[group][ind][1] += \" \" + str(k) + \" \" + str(data_c[data_c.index(k) - 1])\n",
    "                # else:\n",
    "                traingroups_titledata[group][ind][1] += \" \" + str(k)"
   ]
  },
  {
   "cell_type": "code",
   "execution_count": 135,
   "metadata": {},
   "outputs": [
    {
     "data": {
      "text/plain": [
       "[8495, 'взять поход отдыхать россия 4 travellling взять поход 4', 1]"
      ]
     },
     "execution_count": 135,
     "metadata": {},
     "output_type": "execute_result"
    }
   ],
   "source": [
    "traingroups_titledata[100][3]"
   ]
  },
  {
   "cell_type": "code",
   "execution_count": 136,
   "metadata": {},
   "outputs": [],
   "source": [
    "from sklearn.feature_extraction.text import TfidfVectorizer\n",
    "from scipy.spatial.distance import pdist, squareform\n",
    "\n",
    "vectorizer = TfidfVectorizer()\n",
    "\n",
    "\n",
    "X, y, groups = [], [], []\n",
    "for group, docs in traingroups_titledata.items():\n",
    "    doc_id, title, target = zip(*docs)\n",
    "    distances = pdist(vectorizer.fit_transform(title).toarray(), 'cosine')\n",
    "    distances[np.where(np.isnan(distances))[0]] = 1.\n",
    "    features = np.sort(squareform(distances))[:, 1:26]\n",
    "    X.extend(features)\n",
    "    y.extend(target)\n",
    "    groups.extend([group] * len(target))\n",
    "X, y, groups = np.array(X), np.array(y), np.array(groups)"
   ]
  },
  {
   "cell_type": "code",
   "execution_count": 17,
   "metadata": {},
   "outputs": [
    {
     "data": {
      "text/plain": [
       "(11690, 25)"
      ]
     },
     "execution_count": 17,
     "metadata": {},
     "output_type": "execute_result"
    }
   ],
   "source": [
    "X.shape"
   ]
  },
  {
   "cell_type": "markdown",
   "metadata": {},
   "source": [
    "Подберите размер батча для обучения. Линейная модель не должна учиться дольше нескольких минут. \n",
    "\n",
    "Не забывайте использовать скейлер!"
   ]
  },
  {
   "cell_type": "code",
   "execution_count": 15,
   "metadata": {
    "tags": []
   },
   "outputs": [],
   "source": [
    "from sklearn.metrics import f1_score\n",
    "from sklearn.preprocessing import StandardScaler\n",
    "from sklearn.model_selection import GridSearchCV, GroupKFold"
   ]
  },
  {
   "cell_type": "code",
   "execution_count": 119,
   "metadata": {
    "collapsed": true,
    "jupyter": {
     "outputs_hidden": true
    }
   },
   "outputs": [
    {
     "data": {
      "text/plain": [
       "0.8274582560296846"
      ]
     },
     "execution_count": 119,
     "metadata": {},
     "output_type": "execute_result"
    }
   ],
   "source": [
    "train_indices, test_indices = next(GroupKFold(n_splits=15).split(X, y, groups))\n",
    "scaler = StandardScaler()\n",
    "scaler.fit(X)\n",
    "\n",
    "# my_clf = MySGDClassifier(batch_generator=batch_generator, C=100000, alpha=0.0035,\n",
    "#                          max_epoch=20, batch_size=20, model_type='log_reg')\n",
    "#my_clf = GradientBoostingClassifier(loss='exponential', learning_rate=0.15)\n",
    "#my_clf = CatBoostClassifier(loss_function='Logloss', verbose=False, iterations=1000, boosting_type=\"Ordered\")\n",
    "X_train, y_train = X[train_indices], y[train_indices]\n",
    "X_test, y_test   = X[test_indices], y[test_indices]\n",
    "X_train, X_test  = scaler.transform(X_train), scaler.transform(X_test)\n",
    "#%time my_clf.fit(X_train, y_train, plot=True)\n",
    "f1_score(y_test, my_clf.predict(X_test))"
   ]
  },
  {
   "cell_type": "markdown",
   "metadata": {},
   "source": [
    "Разбейте данные на обучение и валидацию. Подберите параметры C, alpha, max_epoch, model_type на валидации (Вы же помните, как правильно в этой задаче делать валидацию?)"
   ]
  },
  {
   "cell_type": "code",
   "execution_count": 137,
   "metadata": {
    "collapsed": true,
    "jupyter": {
     "outputs_hidden": true
    }
   },
   "outputs": [
    {
     "name": "stdout",
     "output_type": "stream",
     "text": [
      "CPU times: user 9.33 s, sys: 224 ms, total: 9.56 s\n",
      "Wall time: 24.3 s\n"
     ]
    },
    {
     "data": {
      "text/plain": [
       "{'C': 75000, 'C1': 550, 'alpha': 0.015, 'max_epoch': 500}"
      ]
     },
     "execution_count": 137,
     "metadata": {},
     "output_type": "execute_result"
    }
   ],
   "source": [
    "scaler = StandardScaler()\n",
    "scaler.fit(X)\n",
    "X_ = scaler.transform(X)\n",
    "cross_validation = GroupKFold(n_splits=10).split(X_, y, groups)\n",
    "my_clf_reg = MySGDClassifier(batch_generator=batch_generator)\n",
    "params = {\n",
    "    'C': [75000],\n",
    "    'C1': [550],\n",
    "    'alpha': [0.015],\n",
    "    'max_epoch': [500]\n",
    "}\n",
    "grid_search = GridSearchCV(my_clf_reg, param_grid=params,\n",
    "                           cv=cross_validation, n_jobs=-1)\n",
    "%time grid_search.fit(X_, y)\n",
    "\n",
    "grid_search.best_params_"
   ]
  },
  {
   "cell_type": "code",
   "execution_count": 101,
   "metadata": {},
   "outputs": [],
   "source": [
    "i = 0"
   ]
  },
  {
   "cell_type": "code",
   "execution_count": 148,
   "metadata": {},
   "outputs": [
    {
     "name": "stderr",
     "output_type": "stream",
     "text": [
      "0it [00:00, ?it/s]"
     ]
    },
    {
     "data": {
      "application/vnd.jupyter.widget-view+json": {
       "model_id": "b333b26114894bb7bef83199a1262b26",
       "version_major": 2,
       "version_minor": 0
      },
      "text/plain": [
       "MetricVisualizer(layout=Layout(align_self='stretch', height='500px'))"
      ]
     },
     "metadata": {},
     "output_type": "display_data"
    },
    {
     "name": "stderr",
     "output_type": "stream",
     "text": [
      "1it [01:42, 102.13s/it]"
     ]
    },
    {
     "name": "stdout",
     "output_type": "stream",
     "text": [
      "0.3592233009708738\n"
     ]
    },
    {
     "data": {
      "application/vnd.jupyter.widget-view+json": {
       "model_id": "cd8e298b2f1a4e7093f5ebba3f53edf7",
       "version_major": 2,
       "version_minor": 0
      },
      "text/plain": [
       "MetricVisualizer(layout=Layout(align_self='stretch', height='500px'))"
      ]
     },
     "metadata": {},
     "output_type": "display_data"
    },
    {
     "name": "stderr",
     "output_type": "stream",
     "text": [
      "2it [03:26, 103.44s/it]"
     ]
    },
    {
     "name": "stdout",
     "output_type": "stream",
     "text": [
      "0.5306122448979591\n"
     ]
    },
    {
     "data": {
      "application/vnd.jupyter.widget-view+json": {
       "model_id": "c8d05556b68c4d27ac2d48a8d6ec2833",
       "version_major": 2,
       "version_minor": 0
      },
      "text/plain": [
       "MetricVisualizer(layout=Layout(align_self='stretch', height='500px'))"
      ]
     },
     "metadata": {},
     "output_type": "display_data"
    },
    {
     "name": "stderr",
     "output_type": "stream",
     "text": [
      "3it [05:14, 105.48s/it]"
     ]
    },
    {
     "name": "stdout",
     "output_type": "stream",
     "text": [
      "0.4736842105263158\n"
     ]
    },
    {
     "data": {
      "application/vnd.jupyter.widget-view+json": {
       "model_id": "b55f2b7a95f744e3b837ce26d28cfa53",
       "version_major": 2,
       "version_minor": 0
      },
      "text/plain": [
       "MetricVisualizer(layout=Layout(align_self='stretch', height='500px'))"
      ]
     },
     "metadata": {},
     "output_type": "display_data"
    },
    {
     "name": "stderr",
     "output_type": "stream",
     "text": [
      "4it [06:48, 101.03s/it]"
     ]
    },
    {
     "name": "stdout",
     "output_type": "stream",
     "text": [
      "0.6060606060606061\n"
     ]
    },
    {
     "data": {
      "application/vnd.jupyter.widget-view+json": {
       "model_id": "05298dfe38dd41d6999b8dac36eeb493",
       "version_major": 2,
       "version_minor": 0
      },
      "text/plain": [
       "MetricVisualizer(layout=Layout(align_self='stretch', height='500px'))"
      ]
     },
     "metadata": {},
     "output_type": "display_data"
    },
    {
     "name": "stderr",
     "output_type": "stream",
     "text": [
      "5it [08:22, 98.41s/it] "
     ]
    },
    {
     "name": "stdout",
     "output_type": "stream",
     "text": [
      "0.7499999999999999\n"
     ]
    },
    {
     "data": {
      "application/vnd.jupyter.widget-view+json": {
       "model_id": "fb0e5fac664a43baa42a620be16dd9d5",
       "version_major": 2,
       "version_minor": 0
      },
      "text/plain": [
       "MetricVisualizer(layout=Layout(align_self='stretch', height='500px'))"
      ]
     },
     "metadata": {},
     "output_type": "display_data"
    },
    {
     "name": "stderr",
     "output_type": "stream",
     "text": [
      "6it [09:50, 95.06s/it]"
     ]
    },
    {
     "name": "stdout",
     "output_type": "stream",
     "text": [
      "0.5542168674698795\n"
     ]
    },
    {
     "data": {
      "application/vnd.jupyter.widget-view+json": {
       "model_id": "2ad4dcff4b5d4cb89dd8cdfcb75a2171",
       "version_major": 2,
       "version_minor": 0
      },
      "text/plain": [
       "MetricVisualizer(layout=Layout(align_self='stretch', height='500px'))"
      ]
     },
     "metadata": {},
     "output_type": "display_data"
    },
    {
     "name": "stderr",
     "output_type": "stream",
     "text": [
      "7it [11:18, 92.59s/it]"
     ]
    },
    {
     "name": "stdout",
     "output_type": "stream",
     "text": [
      "0.393063583815029\n"
     ]
    },
    {
     "data": {
      "application/vnd.jupyter.widget-view+json": {
       "model_id": "d30c751b8ec74ab193e563ad6d1c5e53",
       "version_major": 2,
       "version_minor": 0
      },
      "text/plain": [
       "MetricVisualizer(layout=Layout(align_self='stretch', height='500px'))"
      ]
     },
     "metadata": {},
     "output_type": "display_data"
    },
    {
     "name": "stderr",
     "output_type": "stream",
     "text": [
      "8it [12:46, 91.09s/it]"
     ]
    },
    {
     "name": "stdout",
     "output_type": "stream",
     "text": [
      "0.31213872832369943\n"
     ]
    },
    {
     "data": {
      "application/vnd.jupyter.widget-view+json": {
       "model_id": "dd5497963fbe4c4f87fa95c87c06b1de",
       "version_major": 2,
       "version_minor": 0
      },
      "text/plain": [
       "MetricVisualizer(layout=Layout(align_self='stretch', height='500px'))"
      ]
     },
     "metadata": {},
     "output_type": "display_data"
    },
    {
     "name": "stderr",
     "output_type": "stream",
     "text": [
      "9it [14:13, 89.78s/it]"
     ]
    },
    {
     "name": "stdout",
     "output_type": "stream",
     "text": [
      "0.6984126984126985\n"
     ]
    },
    {
     "data": {
      "application/vnd.jupyter.widget-view+json": {
       "model_id": "71717a0403db49f6b1b8daeee7daa30d",
       "version_major": 2,
       "version_minor": 0
      },
      "text/plain": [
       "MetricVisualizer(layout=Layout(align_self='stretch', height='500px'))"
      ]
     },
     "metadata": {},
     "output_type": "display_data"
    },
    {
     "name": "stderr",
     "output_type": "stream",
     "text": [
      "10it [15:40, 89.00s/it]"
     ]
    },
    {
     "name": "stdout",
     "output_type": "stream",
     "text": [
      "0.5803571428571428\n"
     ]
    },
    {
     "data": {
      "application/vnd.jupyter.widget-view+json": {
       "model_id": "958ca3edd63047178442274b7b4748a7",
       "version_major": 2,
       "version_minor": 0
      },
      "text/plain": [
       "MetricVisualizer(layout=Layout(align_self='stretch', height='500px'))"
      ]
     },
     "metadata": {},
     "output_type": "display_data"
    },
    {
     "name": "stderr",
     "output_type": "stream",
     "text": [
      "11it [17:07, 88.31s/it]"
     ]
    },
    {
     "name": "stdout",
     "output_type": "stream",
     "text": [
      "0.7025089605734767\n"
     ]
    },
    {
     "data": {
      "application/vnd.jupyter.widget-view+json": {
       "model_id": "a969fbec66eb429c92fb14f1634b4a47",
       "version_major": 2,
       "version_minor": 0
      },
      "text/plain": [
       "MetricVisualizer(layout=Layout(align_self='stretch', height='500px'))"
      ]
     },
     "metadata": {},
     "output_type": "display_data"
    },
    {
     "name": "stderr",
     "output_type": "stream",
     "text": [
      "12it [18:34, 87.89s/it]"
     ]
    },
    {
     "name": "stdout",
     "output_type": "stream",
     "text": [
      "0.7860696517412936\n"
     ]
    },
    {
     "data": {
      "application/vnd.jupyter.widget-view+json": {
       "model_id": "56380c869c7141d68fbe54a79a2519b8",
       "version_major": 2,
       "version_minor": 0
      },
      "text/plain": [
       "MetricVisualizer(layout=Layout(align_self='stretch', height='500px'))"
      ]
     },
     "metadata": {},
     "output_type": "display_data"
    },
    {
     "name": "stderr",
     "output_type": "stream",
     "text": [
      "13it [20:00, 87.57s/it]"
     ]
    },
    {
     "name": "stdout",
     "output_type": "stream",
     "text": [
      "0.6322580645161291\n"
     ]
    },
    {
     "data": {
      "application/vnd.jupyter.widget-view+json": {
       "model_id": "da1a60491844462b9dddfc2b56dd4634",
       "version_major": 2,
       "version_minor": 0
      },
      "text/plain": [
       "MetricVisualizer(layout=Layout(align_self='stretch', height='500px'))"
      ]
     },
     "metadata": {},
     "output_type": "display_data"
    },
    {
     "name": "stderr",
     "output_type": "stream",
     "text": [
      "14it [21:28, 87.51s/it]"
     ]
    },
    {
     "name": "stdout",
     "output_type": "stream",
     "text": [
      "0.755952380952381\n"
     ]
    },
    {
     "data": {
      "application/vnd.jupyter.widget-view+json": {
       "model_id": "8002188d0cbf425ca8f03e1e39edf975",
       "version_major": 2,
       "version_minor": 0
      },
      "text/plain": [
       "MetricVisualizer(layout=Layout(align_self='stretch', height='500px'))"
      ]
     },
     "metadata": {},
     "output_type": "display_data"
    },
    {
     "name": "stderr",
     "output_type": "stream",
     "text": [
      "15it [22:55, 87.39s/it]"
     ]
    },
    {
     "name": "stdout",
     "output_type": "stream",
     "text": [
      "0.6145552560646902\n"
     ]
    },
    {
     "data": {
      "application/vnd.jupyter.widget-view+json": {
       "model_id": "0200a7e42215481f8d653884711ea178",
       "version_major": 2,
       "version_minor": 0
      },
      "text/plain": [
       "MetricVisualizer(layout=Layout(align_self='stretch', height='500px'))"
      ]
     },
     "metadata": {},
     "output_type": "display_data"
    },
    {
     "name": "stderr",
     "output_type": "stream",
     "text": [
      "16it [24:22, 87.30s/it]"
     ]
    },
    {
     "name": "stdout",
     "output_type": "stream",
     "text": [
      "0.3548387096774193\n"
     ]
    },
    {
     "data": {
      "application/vnd.jupyter.widget-view+json": {
       "model_id": "1b1275c6fc1a4a5cb4de71b58d6261ca",
       "version_major": 2,
       "version_minor": 0
      },
      "text/plain": [
       "MetricVisualizer(layout=Layout(align_self='stretch', height='500px'))"
      ]
     },
     "metadata": {},
     "output_type": "display_data"
    },
    {
     "name": "stderr",
     "output_type": "stream",
     "text": [
      "17it [25:50, 87.40s/it]"
     ]
    },
    {
     "name": "stdout",
     "output_type": "stream",
     "text": [
      "0.6072607260726073\n"
     ]
    },
    {
     "data": {
      "application/vnd.jupyter.widget-view+json": {
       "model_id": "e7f090f1fa8f4bc0920ff3f3fedc83f9",
       "version_major": 2,
       "version_minor": 0
      },
      "text/plain": [
       "MetricVisualizer(layout=Layout(align_self='stretch', height='500px'))"
      ]
     },
     "metadata": {},
     "output_type": "display_data"
    },
    {
     "name": "stderr",
     "output_type": "stream",
     "text": [
      "18it [27:17, 87.35s/it]"
     ]
    },
    {
     "name": "stdout",
     "output_type": "stream",
     "text": [
      "0.589090909090909\n"
     ]
    },
    {
     "data": {
      "application/vnd.jupyter.widget-view+json": {
       "model_id": "056fe3e9e48d4ae1851b85b58928da56",
       "version_major": 2,
       "version_minor": 0
      },
      "text/plain": [
       "MetricVisualizer(layout=Layout(align_self='stretch', height='500px'))"
      ]
     },
     "metadata": {},
     "output_type": "display_data"
    },
    {
     "name": "stderr",
     "output_type": "stream",
     "text": [
      "19it [28:46, 87.83s/it]"
     ]
    },
    {
     "name": "stdout",
     "output_type": "stream",
     "text": [
      "0.483695652173913\n"
     ]
    },
    {
     "data": {
      "application/vnd.jupyter.widget-view+json": {
       "model_id": "0ac3eefb27394b2f9931f492c35dc09e",
       "version_major": 2,
       "version_minor": 0
      },
      "text/plain": [
       "MetricVisualizer(layout=Layout(align_self='stretch', height='500px'))"
      ]
     },
     "metadata": {},
     "output_type": "display_data"
    },
    {
     "name": "stderr",
     "output_type": "stream",
     "text": [
      "20it [30:13, 87.59s/it]"
     ]
    },
    {
     "name": "stdout",
     "output_type": "stream",
     "text": [
      "0.5038167938931297\n"
     ]
    },
    {
     "data": {
      "application/vnd.jupyter.widget-view+json": {
       "model_id": "cffb8b622d1841d39bf81154213d69b3",
       "version_major": 2,
       "version_minor": 0
      },
      "text/plain": [
       "MetricVisualizer(layout=Layout(align_self='stretch', height='500px'))"
      ]
     },
     "metadata": {},
     "output_type": "display_data"
    },
    {
     "name": "stderr",
     "output_type": "stream",
     "text": [
      "21it [31:40, 87.56s/it]"
     ]
    },
    {
     "name": "stdout",
     "output_type": "stream",
     "text": [
      "0.5726872246696034\n"
     ]
    },
    {
     "data": {
      "application/vnd.jupyter.widget-view+json": {
       "model_id": "7e3091e2e6da425aa54b3607421f667a",
       "version_major": 2,
       "version_minor": 0
      },
      "text/plain": [
       "MetricVisualizer(layout=Layout(align_self='stretch', height='500px'))"
      ]
     },
     "metadata": {},
     "output_type": "display_data"
    },
    {
     "name": "stderr",
     "output_type": "stream",
     "text": [
      "22it [33:08, 87.52s/it]"
     ]
    },
    {
     "name": "stdout",
     "output_type": "stream",
     "text": [
      "0.49056603773584895\n"
     ]
    },
    {
     "data": {
      "application/vnd.jupyter.widget-view+json": {
       "model_id": "369333185f00488aa883d9b27ff076d1",
       "version_major": 2,
       "version_minor": 0
      },
      "text/plain": [
       "MetricVisualizer(layout=Layout(align_self='stretch', height='500px'))"
      ]
     },
     "metadata": {},
     "output_type": "display_data"
    },
    {
     "name": "stderr",
     "output_type": "stream",
     "text": [
      "23it [34:35, 87.39s/it]"
     ]
    },
    {
     "name": "stdout",
     "output_type": "stream",
     "text": [
      "0.6319444444444444\n"
     ]
    },
    {
     "data": {
      "application/vnd.jupyter.widget-view+json": {
       "model_id": "45a80b4d03df4d2496e71592d015e465",
       "version_major": 2,
       "version_minor": 0
      },
      "text/plain": [
       "MetricVisualizer(layout=Layout(align_self='stretch', height='500px'))"
      ]
     },
     "metadata": {},
     "output_type": "display_data"
    },
    {
     "name": "stderr",
     "output_type": "stream",
     "text": [
      "24it [36:02, 87.40s/it]"
     ]
    },
    {
     "name": "stdout",
     "output_type": "stream",
     "text": [
      "0.6470588235294118\n"
     ]
    },
    {
     "data": {
      "application/vnd.jupyter.widget-view+json": {
       "model_id": "227f530e07c84c91bd1d6db4d51f1570",
       "version_major": 2,
       "version_minor": 0
      },
      "text/plain": [
       "MetricVisualizer(layout=Layout(align_self='stretch', height='500px'))"
      ]
     },
     "metadata": {},
     "output_type": "display_data"
    },
    {
     "name": "stderr",
     "output_type": "stream",
     "text": [
      "25it [37:29, 90.00s/it]"
     ]
    },
    {
     "name": "stdout",
     "output_type": "stream",
     "text": [
      "0.6627218934911243\n"
     ]
    },
    {
     "name": "stderr",
     "output_type": "stream",
     "text": [
      "\n"
     ]
    }
   ],
   "source": [
    "from tqdm import tqdm\n",
    "\n",
    "\n",
    "my_clf = CatBoostClassifier(loss_function='Logloss',\n",
    "                            depth=10,\n",
    "                            learning_rate=0.01,\n",
    "                            verbose=False, \n",
    "                            iterations=2000, \n",
    "                            #eta=0.1,\n",
    "                            leaf_estimation_method = 'Gradient',\n",
    "                            custom_loss=['F1', 'Precision', 'Recall'])\n",
    "cross_validation = GroupKFold(n_splits=25).split(X, y, groups)\n",
    "for train_index, test_index in tqdm(cross_validation):\n",
    "    X_train, X_test = X[train_index], X[test_index]\n",
    "    y_train, y_test = y[train_index], y[test_index]\n",
    "    train_scaler, test_scaler = StandardScaler(), StandardScaler()\n",
    "    train_scaler.fit(X_train), test_scaler.fit(X_test)\n",
    "    X_train, X_test = train_scaler.transform(X_train), test_scaler.transform(X_test)\n",
    "    my_clf.fit(X_train, y_train, plot=True)\n",
    "    print(f1_score(my_clf.predict(X_test), y_test))\n",
    "# splitter = GroupShuffleSplit(test_size=.90, n_splits=2, random_state=0)\n",
    "# split = splitter.split(X, y, groups=groups)\n",
    "# train_inds, test_inds = next(split)\n",
    "# X_train, y_train = X[train_inds], y[train_inds]\n",
    "# X_test, y_test = X[test_inds], y[test_inds]\n",
    "# # train_scaler, test_scaler = StandardScaler(), StandardScaler()\n",
    "# # train_scaler.fit(X_train), test_scaler.fit(X_test)\n",
    "# # X_train, X_test = train_scaler.transform(X_train), test_scaler.transform(X_test)\n",
    "# my_clf.fit(X_train, y_train, plot=True)\n",
    "# print(f1_score(my_clf.predict(X_test), y_test))\n",
    "# my_clf.save_model(f'/Users/vadimvorobev/~/code/VK/ml/Project/data/stacking/0{i}')\n",
    "i+=1\n"
   ]
  },
  {
   "cell_type": "code",
   "execution_count": 150,
   "metadata": {},
   "outputs": [
    {
     "data": {
      "text/plain": [
       "0.846991946944576"
      ]
     },
     "execution_count": 150,
     "metadata": {},
     "output_type": "execute_result"
    }
   ],
   "source": [
    "s.fit(X)\n",
    "f1_score(my_clf.predict(s.transform(X)), y)"
   ]
  },
  {
   "cell_type": "code",
   "execution_count": null,
   "metadata": {},
   "outputs": [],
   "source": [
    "my_clf.save_model(\"data/models/q1\")"
   ]
  },
  {
   "cell_type": "code",
   "execution_count": 264,
   "metadata": {},
   "outputs": [],
   "source": [
    "from catboost import  sum_models\n",
    "from sklearn.linear_model import LinearRegression"
   ]
  },
  {
   "cell_type": "code",
   "execution_count": null,
   "metadata": {},
   "outputs": [],
   "source": [
    "np.argmax()"
   ]
  },
  {
   "cell_type": "code",
   "execution_count": 220,
   "metadata": {},
   "outputs": [],
   "source": [
    "models = []\n",
    "for i in range(5):\n",
    "    m = CatBoostClassifier()\n",
    "    m.load_model(f\"data/models/0{i}\")\n",
    "    models.append(m)\n",
    "models_weights = np.arange(1,6) / 5\n",
    "models_weights = models_weights / np.sum(models_weights)"
   ]
  },
  {
   "cell_type": "code",
   "execution_count": 348,
   "metadata": {},
   "outputs": [],
   "source": [
    "models_pred = pd.DataFrame()\n",
    "s = StandardScaler()\n",
    "s.fit(X)\n",
    "for i, m in enumerate(models):\n",
    "    models_pred[f\"{i}\"] = m.predict(s.transform(X))"
   ]
  },
  {
   "cell_type": "code",
   "execution_count": null,
   "metadata": {},
   "outputs": [],
   "source": [
    "# scaler.fit(X)\n",
    "# X_ = scaler.transform(X)\n",
    "# cross_validation = GroupKFold(n_splits=5).split(X, y, groups)\n",
    "# my_clf = CatBoostClassifier()\n",
    "# grid = {'learning_rate' : [0.35],\n",
    "#         'depth' : [10],\n",
    "#         'l2_leaf_reg' : [1]}\n",
    "# grid_search_result = my_clf.grid_search(grid, X_, y, cv=cross_validation, plot=True, shuffle=False)"
   ]
  },
  {
   "cell_type": "markdown",
   "metadata": {},
   "source": [
    "Подберите порог линейной модели, по достижении которого, Вы будете относить объект к классу 1. Вспомните, какую метрику мы оптимизируем в соревновании.  Как тогда правильно подобрать порог?"
   ]
  },
  {
   "cell_type": "code",
   "execution_count": 151,
   "metadata": {
    "collapsed": true,
    "jupyter": {
     "outputs_hidden": true
    }
   },
   "outputs": [],
   "source": [
    "test_data = pd.read_csv('data/test_groups.csv')\n",
    "testgroups_titledata = {}\n",
    "for i in range(len(test_data)):\n",
    "    new_doc = test_data.iloc[i]\n",
    "    doc_group = new_doc['group_id']\n",
    "    doc_id = new_doc['doc_id']\n",
    "    title = doc_to_title[doc_id]\n",
    "    if doc_group not in testgroups_titledata:\n",
    "        testgroups_titledata[doc_group] = []\n",
    "    testgroups_titledata[doc_group].append([doc_id, title])"
   ]
  },
  {
   "cell_type": "code",
   "execution_count": 152,
   "metadata": {},
   "outputs": [
    {
     "data": {
      "text/plain": [
       "[[6710, 'прописывать админка друг youtube 4 youtube админка'],\n",
       " [4030,\n",
       "  'скачать sgl доработка слива мода mysql role play готовый сервер samp sampe samp gta 14 v-sampe'],\n",
       " [5561,\n",
       "  'прописывать админка counter strike каталог статья игровой сообщество dream counter strike портал 12 dream-x админка'],\n",
       " [4055, 'прописывать простой админка 3  прописывать'],\n",
       " [4247, 'подбор админ сервер код архив форум ozone 7 o3one']]"
      ]
     },
     "execution_count": 152,
     "metadata": {},
     "output_type": "execute_result"
    }
   ],
   "source": [
    "import operator\n",
    "for group in testgroups_titledata:\n",
    "    group_dict = {}\n",
    "    for doc, title in testgroups_titledata[group]:\n",
    "        for i in title.split():\n",
    "            group_dict[i] = group_dict.get(i, 0) + 1\n",
    "    golden_title = dict(sorted(group_dict.items(), key=operator.itemgetter(1))[-10:])\n",
    "    for ind, data in enumerate(testgroups_titledata[group]):\n",
    "        data_c = data[1][:-2].split()\n",
    "        for k in set(data_c):\n",
    "            if k in golden_title:\n",
    "                if data_c[data_c.index(k) - 1] in golden_title:\n",
    "                #     testgroups_titledata[group][ind][1] += \" \" + str(k) + \" \" + str(data_c[data_c.index(k) - 1])\n",
    "                    testgroups_titledata[group][ind][1] += \" \" + str(k)\n",
    "testgroups_titledata[130][:5]"
   ]
  },
  {
   "cell_type": "code",
   "execution_count": 153,
   "metadata": {
    "collapsed": true,
    "jupyter": {
     "outputs_hidden": true
    }
   },
   "outputs": [],
   "source": [
    "X_test, groups_test = [], []\n",
    "for group, docs in testgroups_titledata.items():\n",
    "    doc_id, title = zip(*docs)\n",
    "    distances = pdist(vectorizer.fit_transform(title).toarray(), 'cosine')\n",
    "    distances[np.where(np.isnan(distances))[0]] = 1.\n",
    "    features = np.sort(squareform(distances))[:, 1:26]\n",
    "    X_test.extend(features)\n",
    "    groups_test.extend([group] * len(doc_id))\n",
    "X_test, groups_test = np.array(X_test), np.array(groups_test)"
   ]
  },
  {
   "cell_type": "code",
   "execution_count": 48,
   "metadata": {},
   "outputs": [],
   "source": [
    "# scaler = StandardScaler()\n",
    "# scaler.fit(X_test)\n",
    "\n",
    "# models_pred = pd.DataFrame()\n",
    "# s = StandardScaler()\n",
    "# s.fit(X_test)\n",
    "# for i, m in enumerate(models):\n",
    "#     models_pred[f\"{i}\"] = m.predict(s.transform(X_test))\n",
    "# a = reg.predict(models_pred)\n",
    "# a[a >= 0.5] = 1\n",
    "# a[a < 0.5] = 0\n",
    "# plt.hist(a)"
   ]
  },
  {
   "cell_type": "code",
   "execution_count": 13,
   "metadata": {},
   "outputs": [
    {
     "data": {
      "text/plain": [
       "<catboost.core.CatBoostClassifier at 0x14240ac50>"
      ]
     },
     "execution_count": 13,
     "metadata": {},
     "output_type": "execute_result"
    }
   ],
   "source": [
    "my_clf = CatBoostClassifier()\n",
    "my_clf.load_model('data/models/q1')"
   ]
  },
  {
   "cell_type": "code",
   "execution_count": 154,
   "metadata": {},
   "outputs": [],
   "source": [
    "from csv import DictWriter\n",
    "\n",
    "\n",
    "\n",
    "#a = models[-3].predict(scaler.transform(X_test)).flatten()\n",
    "\n",
    "s = StandardScaler()\n",
    "s.fit(X_test)\n",
    "# a = grid_search.predict(scaler.transform(X_test)).flatten()\n",
    "a = my_clf.predict(s.transform(X_test)).flatten()\n",
    "# a = my_clf.predict(s.transform(X_test)).flatten()\n",
    "    \n",
    "with open('data/05.csv', 'w') as f:\n",
    "    fieldnames = ['pair_id', 'target']\n",
    "    writer = DictWriter(f, fieldnames=fieldnames)\n",
    "    writer.writeheader()\n",
    "    i = 11691\n",
    "    for elem in a:\n",
    "        writer.writerow({'pair_id': str(i), 'target': str(int(elem))})\n",
    "        i += 1"
   ]
  },
  {
   "cell_type": "code",
   "execution_count": 155,
   "metadata": {},
   "outputs": [
    {
     "data": {
      "text/plain": [
       "3806"
      ]
     },
     "execution_count": 155,
     "metadata": {},
     "output_type": "execute_result"
    }
   ],
   "source": [
    "np.sum(a == 1)"
   ]
  },
  {
   "cell_type": "code",
   "execution_count": 18,
   "metadata": {},
   "outputs": [
    {
     "data": {
      "text/plain": [
       "(16627, 25)"
      ]
     },
     "execution_count": 18,
     "metadata": {},
     "output_type": "execute_result"
    }
   ],
   "source": [
    "X_test.shape"
   ]
  },
  {
   "cell_type": "code",
   "execution_count": 125,
   "metadata": {},
   "outputs": [
    {
     "data": {
      "text/plain": [
       "(array([11959.,     0.,     0.,     0.,     0.,     0.,     0.,     0.,\n",
       "            0.,  4668.]),\n",
       " array([0. , 0.1, 0.2, 0.3, 0.4, 0.5, 0.6, 0.7, 0.8, 0.9, 1. ]),\n",
       " <BarContainer object of 10 artists>)"
      ]
     },
     "execution_count": 125,
     "metadata": {},
     "output_type": "execute_result"
    },
    {
     "data": {
      "image/png": "[encoded data removed]",
      "text/plain": [
       "<Figure size 864x360 with 1 Axes>"
      ]
     },
     "metadata": {},
     "output_type": "display_data"
    }
   ],
   "source": [
    "def f(x):\n",
    "    if x == 2:\n",
    "        return 1\n",
    "    else:\n",
    "        return x\n",
    "df = pd.read_csv('data/05.csv')\n",
    "df[\"target\"] = df[\"target\"].apply(lambda x : f(x))\n",
    "df.to_csv(\"data/05.csv\", index=False)\n",
    "plt.hist(df.target)"
   ]
  },
  {
   "cell_type": "markdown",
   "metadata": {},
   "source": [
    "С лучшими параметрами на валидации сделайте предсказание на тестовом множестве, отправьте его на проверку на платформу kaggle. Убедитесь, что Вы смогли побить public score первого бейзлайна."
   ]
  },
  {
   "cell_type": "markdown",
   "metadata": {},
   "source": [
    "** При сдаче домашки Вам необходимо кроме ссылки на ноутбук показать Ваш ник на kaggle, под которым Вы залили решение, которое побило Handmade baseline. **"
   ]
  },
  {
   "cell_type": "code",
   "execution_count": 110,
   "metadata": {
    "collapsed": true,
    "jupyter": {
     "outputs_hidden": true
    }
   },
   "outputs": [
    {
     "data": {
      "text/plain": [
       "{'блог',\n",
       " 'видео',\n",
       " 'журнал',\n",
       " 'звезда',\n",
       " 'зритель',\n",
       " 'интернет',\n",
       " 'комментарий',\n",
       " 'пользователь',\n",
       " 'портал',\n",
       " 'публикация',\n",
       " 'реклама',\n",
       " 'рекламный',\n",
       " 'ролик',\n",
       " 'сайт',\n",
       " 'сеть',\n",
       " 'социальный',\n",
       " 'страница',\n",
       " 'форум',\n",
       " 'фотография',\n",
       " 'шоу'}"
      ]
     },
     "execution_count": 110,
     "metadata": {},
     "output_type": "execute_result"
    }
   ],
   "source": [
    "from model import word_generator\n",
    "word_generator([\"инстаграм\"], num=20)"
   ]
  },
  {
   "cell_type": "markdown",
   "metadata": {},
   "source": [
    "<h2>Kaggle: esjxjc(Puseferg)</h2>"
   ]
  },
  {
   "cell_type": "markdown",
   "metadata": {},
   "source": [
    "# Фидбек (бесценно)"
   ]
  },
  {
   "cell_type": "markdown",
   "metadata": {},
   "source": [
    "* Какие аспекты обучения линейных моделей Вам показались непонятными? Какое место стоит дополнительно объяснить?"
   ]
  },
  {
   "cell_type": "markdown",
   "metadata": {},
   "source": [
    "Для меня важно было скорее понять где у меня пробелы в знаниях, это уже дело не простое. Восполнять их лучше самостоятельно, так как сам себя человек знает лучше, чем кто-либо другой."
   ]
  },
  {
   "cell_type": "markdown",
   "metadata": {},
   "source": [
    "* Здесь Вы можете оставить отзыв о этой домашней работе или о всем курсе.   "
   ]
  },
  {
   "cell_type": "markdown",
   "metadata": {},
   "source": [
    "*** ВАШ ОТЗЫВ ЗДЕСЬ***"
   ]
  },
  {
   "cell_type": "code",
   "execution_count": null,
   "metadata": {},
   "outputs": [],
   "source": []
  },
  {
   "cell_type": "code",
   "execution_count": null,
   "metadata": {},
   "outputs": [],
   "source": []
  },
  {
   "cell_type": "code",
   "execution_count": null,
   "metadata": {
    "collapsed": true,
    "jupyter": {
     "outputs_hidden": true
    }
   },
   "outputs": [],
   "source": []
  }
 ],
 "metadata": {
  "anaconda-cloud": {},
  "kernelspec": {
   "display_name": "Python 3",
   "language": "python",
   "name": "python3"
  },
  "language_info": {
   "codemirror_mode": {
    "name": "ipython",
    "version": 3
   },
   "file_extension": ".py",
   "mimetype": "text/x-python",
   "name": "python",
   "nbconvert_exporter": "python",
   "pygments_lexer": "ipython3",
   "version": "3.10.1"
  },
  "nav_menu": {},
  "toc": {
   "colors": {
    "hover_highlight": "#DAA520",
    "navigate_num": "#000000",
    "navigate_text": "#333333",
    "running_highlight": "#FF0000",
    "selected_highlight": "#FFD700",
    "sidebar_border": "#EEEEEE",
    "wrapper_background": "#FFFFFF"
   },
   "moveMenuLeft": true,
   "nav_menu": {
    "height": "402px",
    "width": "253px"
   },
   "navigate_menu": true,
   "number_sections": false,
   "sideBar": true,
   "threshold": 4,
   "toc_cell": false,
   "toc_section_display": "block",
   "toc_window_display": true,
   "widenNotebook": false
  }
 },
 "nbformat": 4,
 "nbformat_minor": 4
}
