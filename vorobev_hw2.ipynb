{
 "cells": [
  {
   "cell_type": "markdown",
   "metadata": {},
   "source": [
    "# Алгоритмы интеллектуальной обработки больших объемов данных\n",
    "## Домашнее задание №2: Линейные модели\n"
   ]
  },
  {
   "cell_type": "markdown",
   "metadata": {},
   "source": [
    "**Общая информация**\n",
    "\n",
    "**Срок сдачи:** 25 апреля 18:00 Сдача **очная** на онлайн занятии.\n",
    "\n",
    "\n",
    "Используйте данный Ipython Notebook при оформлении домашнего задания.\n",
    "\n",
    "Присылать ДЗ необходимо в виде ссылки на свой github репозиторий на почту ml1.sphere@mail.ru с указанием темы в следующем формате:\n",
    "\n",
    "[ML0422, Задание 2] Фамилия Имя.\n",
    "\n",
    "\n",
    "\n",
    "**Штрафные баллы:**\n",
    "\n",
    "1. Невыполнение PEP8 -1 балл\n",
    "2. Отсутствие фамилии в имени скрипта (скрипт должен называться по аналогии со stroykova_hw2.ipynb) -1 балл\n",
    "3. Все строчки должны быть выполнены. Нужно, чтобы output команды можно было увидеть уже в git'е. В противном случае -1 балл\n",
    "4. При оформлении ДЗ нужно пользоваться данным файлом в качестве шаблона. Не нужно удалять и видоизменять написанный код и текст, если явно не указана такая возможность. В противном случае -1 балл\n",
    "<hr\\>"
   ]
  },
  {
   "cell_type": "code",
   "execution_count": 10,
   "metadata": {
    "tags": []
   },
   "outputs": [],
   "source": [
    "import pandas as pd\n",
    "import numpy as np\n",
    "import matplotlib.pyplot as plt\n",
    "\n",
    "%matplotlib inline\n",
    "\n",
    "plt.style.use('ggplot')\n",
    "plt.rcParams['figure.figsize'] = (12,5)"
   ]
  },
  {
   "cell_type": "markdown",
   "metadata": {},
   "source": [
    "Здравствуйте, уважаемые студенты! \n",
    "\n",
    "В этом задании мы будем реализовать линейные модели. Необходимо реализовать линейную и логистическую регрессии с L2 регуляризацией"
   ]
  },
  {
   "cell_type": "markdown",
   "metadata": {},
   "source": [
    "# Теоретическое введение\n",
    "\n"
   ]
  },
  {
   "cell_type": "markdown",
   "metadata": {},
   "source": [
    "Линейная регрессия решает задачу регрессии и оптимизирует функцию потерь MSE \n",
    "\n",
    "$$L(w) =  \\frac{1}{N}\\left[\\sum_i (y_i - a_i) ^ 2 \\right], $$ где $y_i$ $-$ целевая функция,  $a_i = a(x_i) =  \\langle\\,x_i,w\\rangle ,$ $-$ предсказание алгоритма на объекте $x_i$, $w$ $-$ вектор весов (размерности $D$), $x_i$ $-$ вектор признаков (такой же размерности $D$).\n",
    "\n",
    "Не забываем, что здесь и далее  мы считаем, что в $x_i$ есть тождественный вектор единиц, ему соответствует вес $w_0$.\n"
   ]
  },
  {
   "cell_type": "markdown",
   "metadata": {},
   "source": [
    "Логистическая регрессия является линейным классификатором, который оптимизирует так называемый функционал log loss:"
   ]
  },
  {
   "cell_type": "markdown",
   "metadata": {},
   "source": [
    "$$L(w) = - \\frac{1}{N}\\left[\\sum_i y_i \\log a_i + ( 1 - y_i) \\log (1 - a_i) \\right],$$\n",
    "где  $y_i  \\in \\{0,1\\}$ $-$ метка класса, $a_i$ $-$ предсказание алгоритма на объекте $x_i$. Модель пытается предсказать апостериорую вероятность объекта принадлежать к классу \"1\":\n",
    "$$ p(y_i = 1 | x_i) = a(x_i) =  \\sigma( \\langle\\,x_i,w\\rangle ),$$\n",
    "$w$ $-$ вектор весов (размерности $D$), $x_i$ $-$ вектор признаков (такой же размерности $D$).\n",
    "\n",
    "Функция $\\sigma(x)$ $-$ нелинейная функция, пероводящее скалярное произведение объекта на веса в число $\\in (0,1)$ (мы же моделируем вероятность все-таки!)\n",
    "\n",
    "$$\\sigma(x) = \\frac{1}{1 + \\exp(-x)}$$\n",
    "\n",
    "Если внимательно посмотреть на функцию потерь, то можно заметить, что в зависимости от правильного ответа алгоритм штрафуется или функцией $-\\log a_i$, или функцией $-\\log (1 - a_i)$.\n",
    "\n"
   ]
  },
  {
   "cell_type": "markdown",
   "metadata": {},
   "source": [
    "Часто для решения проблем, которые так или иначе связаны с проблемой переобучения, в функционал качества добавляют слагаемое, которое называют ***регуляризацией***. Итоговый функционал для линейной регрессии тогда принимает вид:\n",
    "\n",
    "$$L(w) =  \\frac{1}{N}\\left[\\sum_i (y_i - a_i) ^ 2 \\right] + \\frac{1}{C}R(w) $$\n",
    "\n",
    "Для логистической: \n",
    "$$L(w) = - \\frac{1}{N}\\left[\\sum_i y_i \\log a_i + ( 1 - y_i) \\log (1 - a_i) \\right] +  \\frac{1}{C}R(w)$$\n",
    "\n",
    "Самое понятие регуляризации введено основателем ВМК академиком Тихоновым https://ru.wikipedia.org/wiki/Метод_регуляризации_Тихонова\n",
    "\n",
    "Идейно методика регуляризации заключается в следующем $-$ мы рассматриваем некорректно поставленную задачу (что это такое можно найти в интернете), для того чтобы сузить набор различных вариантов (лучшие из которых будут являться переобучением ) мы вводим дополнительные ограничения на множество искомых решений. На лекции Вы уже рассмотрели два варианта регуляризации.\n",
    "\n",
    "$L1$ регуляризация:\n",
    "$$R(w) = \\sum_{j=1}^{D}|w_j|$$\n",
    "$L2$ регуляризация:\n",
    "$$R(w) =  \\sum_{j=1}^{D}w_j^2$$\n",
    "\n",
    "С их помощью мы ограничиваем модель в  возможности выбора каких угодно весов минимизирующих наш лосс, модель уже не сможет подстроиться под данные как ей угодно. \n",
    "\n",
    "Вам нужно добавить соотвествущую Вашему варианту $L2$ регуляризацию.\n",
    "\n",
    "И так, мы поняли, какую функцию ошибки будем минимизировать, разобрались, как получить предсказания по объекту и обученным весам. Осталось разобраться, как получить оптимальные веса. Для этого нужно выбрать какой-то метод оптимизации.\n",
    "\n"
   ]
  },
  {
   "cell_type": "markdown",
   "metadata": {},
   "source": [
    "Градиентный спуск является самым популярным алгоритмом обучения линейных моделей. В этом задании Вам предложат реализовать стохастический градиентный спуск или  мини-батч градиентный спуск (мини-батч на русский язык довольно сложно перевести, многие переводят это как \"пакетный\", но мне не кажется этот перевод удачным). Далее нам потребуется определение **эпохи**.\n",
    "Эпохой в SGD и MB-GD называется один проход по **всем** объектам в обучающей выборки.\n",
    "* В SGD градиент расчитывается по одному случайному объекту. Сам алгоритм выглядит примерно так:\n",
    "        1) Перемешать выборку\n",
    "        2) Посчитать градиент функции потерь на одном объекте (далее один объект тоже будем называть батчем)\n",
    "        3) Сделать шаг спуска\n",
    "        4) Повторять 2) и 3) пока не пройдет максимальное число эпох.\n",
    "* В Mini Batch SGD - по подвыборке объектов. Сам алгоритм выглядит примерно так::\n",
    "        1) Перемешать выборку, выбрать размер мини-батча (от 1 до размера выборки)\n",
    "        2) Почитать градиент функции потерь по мини-батчу (не забыть поделить на  число объектов в мини-батче)\n",
    "        3) Сделать шаг спуска\n",
    "        4) Повторять 2) и 3) пока не пройдет максимальное число эпох.\n",
    "* Для отладки алгоритма реализуйте возможность  вывода средней ошибки на обучении модели по объектам (мини-батчам). После шага градиентного спуска посчитайте значение ошибки на объекте (или мини-батче), а затем усредните, например, по ста шагам. Если обучение проходит корректно, то мы должны увидеть, что каждые 100 шагов функция потерь уменьшается. \n",
    "* Правило останова - максимальное количество эпох\n",
    "    \n"
   ]
  },
  {
   "cell_type": "markdown",
   "metadata": {},
   "source": [
    "# Теоретические вопросы (2 балла)\n",
    "В этой части Вам будут предложены теоретичские вопросы и задачи по теме. Вы, конечно, можете списать их у своего товарища или найти решение в интернете, но учтите, что они обязательно войдут в теоретический коллоквиум. Лучше разобраться в теме сейчас и успешно ответить на коллоквиуме, чем списать, не разобравшись в материале, и быть терзаемым совестью. \n",
    "\n",
    "\n",
    "Формулы надо оформлять в формате **LaTeX**."
   ]
  },
  {
   "cell_type": "markdown",
   "metadata": {},
   "source": [
    "Задача 1. Градиент для линейной регрессии.\n",
    "* Выпишите формулу обновления весов для линейной регрессии с L2 регуляризацией для мини-батч градиентого спуска размера $n$:\n",
    "\n",
    "$$ w_{new} = w_{old} - ... $$\n",
    "\n",
    "\n",
    " Отнеситесь к этому пункту максимально серьезно, это Вам нужно будет реализовать в задании.\n",
    " \n",
    "Проанализруйте итоговую формулу градиента - как  интуитивно можно  описать, чему равен градиент?\n"
   ]
  },
  {
   "cell_type": "markdown",
   "metadata": {},
   "source": [
    "***Ваше решение здесь***\n",
    "$$ w_{new} = w_{old} - \\frac{2}{n}X^T(XW-Y)-\\frac{2}{C}W $$\n",
    "$$ X[n, k], W[k, 1], Y[n, 1] $$"
   ]
  },
  {
   "cell_type": "markdown",
   "metadata": {},
   "source": [
    "Задача 2. Градиент для логистической регрессии.\n",
    "* Выпишите формулу обновления весов для логистической регрессии с L2 регуляризацией  для мини-батч градиентого спуска размера $n$:\n",
    "\n",
    "$$ w_{new} = w_{old} - ...$$\n",
    "\n",
    " Отнеситесь к этому пункту максимально серьезно, это Вам нужно будет реализовать в задании.\n",
    " \n",
    "Проанализруйте итоговую формулу градиента - как  интуитивно можно  описать, чему равен градиент? Как соотносится этот градиент с градиентом, возникающий в задаче линейной регрессии?\n",
    "\n",
    "Подсказка: Вам градиент, которой получается если “в лоб” продифференцировать,  надо немного преобразовать.\n",
    "Надо подставить, что $1 - \\sigma(w,x) $ это  $1 - a(x_i)$, а  $-\\sigma(w,x)$ это $0 - a(x_i)$.  Тогда получится свести к одной красивой формуле с линейной регрессией, которую программировать будет намного проще.\n"
   ]
  },
  {
   "cell_type": "markdown",
   "metadata": {},
   "source": [
    "***Ваше решение здесь***\n",
    "$$ w_{new} = w_{old} - \\frac{1}{n} X^T(\\sigma(XW) - Y) - \\frac{2}{C}W$$\n",
    "$$ X[n, k], W[k, 1], Y[n, 1] $$\n"
   ]
  },
  {
   "cell_type": "markdown",
   "metadata": {},
   "source": [
    "Задача 3. Точное решение линейной регрессии\n",
    "\n",
    "На лекции было показано, что точное решение линейной регрессии имеет вид $w = (X^TX)^{-1}X^TY $. \n",
    "* Покажите, что это действительно является точкой минимума в случае, если матрица X имеет строк не меньше, чем столбцов и имеет полный ранг. Подсказка: посчитайте Гессиан и покажите, что в этом случае он положительно определен. \n",
    "* Выпишите точное решение для модели с $L2$ регуляризацией. Как L2 регуляризация помогает с точным решением где матрица X имеет линейно зависимые признаки?"
   ]
  },
  {
   "cell_type": "markdown",
   "metadata": {},
   "source": [
    "***Ваше решение здесь***\n",
    "\n",
    "$$ \\nabla_w \\left[ -X^TY + (X^TX)w \\right] > 0$$\n",
    "$$  X^TX > 0$$\n",
    "$ X^TX $ - симметричная матрица. \n",
    "Симметричная матрица A размерностью k называется положительно определённой если $$ {\\displaystyle \\forall z\\in \\mathbb {R} ^{k}\\setminus \\{\\mathbf {0} \\}}{\\displaystyle \\forall z\\in \\mathbb {R} ^{k}\\setminus \\{\\mathbf {0} \\}:}  {\\displaystyle z^{T}Az>0.}$$\n",
    "\n",
    "$$ z^TX^TXz = (Xz)^T(Xz) = ||Xz||^2 > 0, z\\neq0$$"
   ]
  },
  {
   "cell_type": "markdown",
   "metadata": {},
   "source": [
    "Задача 4.  Предсказываем вероятности.\n",
    "\n",
    "Когда говорят о логистической регрессии, произносят фразу, что она \"предсказывает вероятности положительного класса\". Давайте разберемся, что же за этим стоит. Посчитаем математическое ожидание функции потерь и проверим, что предсказание алгоритма, оптимизирующее это мат. ожидание, будет являться вероятностью положительного класса. \n",
    "\n",
    "И так, функция потерь на объекте $x_i$, который имеет метку $y_i \\in \\{0,1\\}$  для предсказания $a(x_i)$ равна:\n",
    "$$L(y_i, b) =-[y_i == 1] \\log a(x_i)  - [y_i == 0] \\log(1 - a(x_i)) $$\n",
    "\n",
    "Где $[]$ означает индикатор $-$ он равен единице, если значение внутри него истинно, иначе он равен нулю. Тогда мат. ожидание при условии конкретного $x_i$  по определение мат. ожидания дискретной случайной величины:\n",
    "$$E(L | x_i) = -p(y_i = 1 |x_i ) \\log a(x_i)  - p(y_i = 0 | x_i) \\log( 1 - a(x_i))$$\n",
    "* Докажите, что значение $a(x_i)$, минимизирующее данное мат. ожидание, в точности равно $p(y_i = 1 |x_i)$, то есть равно вероятности положительного класса.\n",
    "\n",
    "Подсказка: возможно, придется воспользоваться, что  $p(y_i = 1 | x_i) + p(y_i = 0 | x_i) = 1$"
   ]
  },
  {
   "cell_type": "markdown",
   "metadata": {},
   "source": [
    "***Ваше решение здесь***\n",
    "\n",
    "$$\\nabla_a E = -\\frac{p(y_i = 1 |x_i )}{a(x_i)} + \\frac{1 - p(y_i = 1 |x_i )}{1-a(x_i)} = 0$$\n",
    "$$a(x_i) = p(y_i = 1 |x_i )$$\n",
    "\n",
    "$$ \\nabla_a [-p(y_i = 1 | x_i) \\frac{1}{a(x_i)} - (1 - p(y_i = 1 | x_i)) \\frac{-1}{1 - a(x_i)}] > 0 $$\n",
    "$$ \\frac{1 - p(y_i = 1 | x_i)}{(a(x_i) - 1)^2} > -\\frac{p(y_i = 1 | x_i)}{a(x_i)^2} \\quad \\blacksquare $$"
   ]
  },
  {
   "cell_type": "markdown",
   "metadata": {},
   "source": [
    "Задача 5.  Смысл регуляризации.\n",
    "\n",
    "Нужно ли в L1/L2 регуляризации использовать свободный член $w_0$ (который не умножается ни на какой признак)?\n",
    "\n",
    "Подсказка: подумайте, для чего мы вводим $w_0$"
   ]
  },
  {
   "cell_type": "markdown",
   "metadata": {},
   "source": [
    "***Ваше решение здесь***\n",
    "$$$$\n",
    "w0 выполняет роль смещения ($ y = w^Tx + w_0$), если мы будем его регуляризировать, то наши предсказания просто будут неправильно смещаться"
   ]
  },
  {
   "cell_type": "markdown",
   "metadata": {},
   "source": [
    "#  Реализация линейной модели (4 балла)"
   ]
  },
  {
   "cell_type": "markdown",
   "metadata": {},
   "source": [
    "## Зачем нужны батчи?\n"
   ]
  },
  {
   "cell_type": "markdown",
   "metadata": {},
   "source": [
    "Как Вы могли заметить из теоретического введения, что в случае SGD, что в случа mini-batch GD,  на каждой итерации обновление весов  происходит только по небольшой части данных (1 пример в случае SGD, batch примеров в случае mini-batch). То есть для каждой итерации нам *** не нужна вся выборка***. Мы можем просто итерироваться по выборке, беря батч нужного размера (далее 1 объект тоже будем называть батчом).\n",
    "\n",
    "Легко заметить, что в этом случае нам не нужно загружать все данные в оперативную память, достаточно просто считать батч с диска, обновить веса, считать диска другой батч и так далее. В целях упрощения домашней работы, прямо с диска  мы считывать не будем, будем работать с обычными numpy array. \n",
    "\n",
    "\n",
    "\n"
   ]
  },
  {
   "cell_type": "markdown",
   "metadata": {},
   "source": [
    "## Немножко про генераторы в Python\n",
    "\n"
   ]
  },
  {
   "cell_type": "markdown",
   "metadata": {},
   "source": [
    "Идея считывания данных кусками удачно ложится на так называемые ***генераторы*** из языка Python. В данной работе Вам предлагается не только разобраться с логистической регрессией, но  и познакомиться с таким важным элементом языка.  При желании Вы можете убрать весь код, связанный с генераторами, и реализовать логистическую регрессию и без них, ***штрафоваться это никак не будет***. Главное, чтобы сама модель была реализована правильно, и все пункты были выполнены. \n",
    "\n",
    "Подробнее можно почитать вот тут https://anandology.com/python-practice-book/iterators.html\n"
   ]
  },
  {
   "cell_type": "markdown",
   "metadata": {},
   "source": [
    "К генератору стоит относиться просто как к функции, которая порождает не один объект, а целую последовательность объектов. Новое значение из последовательности генерируется с помощью ключевого слова ***yield***. Ниже Вы можете насладиться  генератором чисел Фибоначчи."
   ]
  },
  {
   "cell_type": "code",
   "execution_count": 11,
   "metadata": {
    "collapsed": true,
    "jupyter": {
     "outputs_hidden": true
    }
   },
   "outputs": [],
   "source": [
    "def fib(max_iter=4):\n",
    "    a, b = 0, 1\n",
    "    iter_num = 0\n",
    "    while 1:\n",
    "        yield a\n",
    "        a, b = b, a + b\n",
    "        iter_num += 1\n",
    "        if iter_num == max_iter:\n",
    "            break"
   ]
  },
  {
   "cell_type": "markdown",
   "metadata": {},
   "source": [
    "Вот так можно сгенерировать последовательность Фибоначчи. \n",
    "\n",
    "Заметьте, что к генераторам можно применять некоторые стандартные функции из Python, например enumerate."
   ]
  },
  {
   "cell_type": "code",
   "execution_count": 12,
   "metadata": {},
   "outputs": [
    {
     "name": "stdout",
     "output_type": "stream",
     "text": [
      "Fib num: 0 fib values: 0\n",
      "Fib num: 1 fib values: 1\n",
      "Fib num: 2 fib values: 1\n",
      "Fib num: 3 fib values: 2\n"
     ]
    }
   ],
   "source": [
    "new_generator = fib()\n",
    "for j, fib_val in enumerate(new_generator):\n",
    "    print (\"Fib num: \" + str(j) + \" fib values: \" + str(fib_val))"
   ]
  },
  {
   "cell_type": "markdown",
   "metadata": {},
   "source": [
    "Пересоздавая объект, можно сколько угодно раз генерировать заново последовательность. "
   ]
  },
  {
   "cell_type": "code",
   "execution_count": 13,
   "metadata": {},
   "outputs": [
    {
     "name": "stdout",
     "output_type": "stream",
     "text": [
      "Fib num: 0 fib values: 0\n",
      "Fib num: 1 fib values: 1\n",
      "Fib num: 2 fib values: 1\n",
      "Fib num: 3 fib values: 2\n",
      "Fib num: 0 fib values: 0\n",
      "Fib num: 1 fib values: 1\n",
      "Fib num: 2 fib values: 1\n",
      "Fib num: 3 fib values: 2\n",
      "Fib num: 0 fib values: 0\n",
      "Fib num: 1 fib values: 1\n",
      "Fib num: 2 fib values: 1\n",
      "Fib num: 3 fib values: 2\n"
     ]
    }
   ],
   "source": [
    "for i in range(0, 3):\n",
    "    new_generator = fib()\n",
    "    for j, fib_val in enumerate(new_generator):\n",
    "        print (\"Fib num: \" + str(j) + \" fib values: \" + str(fib_val))"
   ]
  },
  {
   "cell_type": "markdown",
   "metadata": {},
   "source": [
    "А вот так уже нельзя."
   ]
  },
  {
   "cell_type": "code",
   "execution_count": 14,
   "metadata": {},
   "outputs": [
    {
     "name": "stdout",
     "output_type": "stream",
     "text": [
      "Fib num: 0 fib values: 0\n",
      "Fib num: 1 fib values: 1\n",
      "Fib num: 2 fib values: 1\n",
      "Fib num: 3 fib values: 2\n"
     ]
    }
   ],
   "source": [
    "new_generator = fib()\n",
    "for i in range(0, 3):\n",
    "    for j, fib_val in enumerate(new_generator):\n",
    "        print (\"Fib num: \" + str(j) + \" fib values: \" + str(fib_val))"
   ]
  },
  {
   "cell_type": "markdown",
   "metadata": {},
   "source": [
    "Концепция крайне удобная для обучения  моделей $-$ у Вас есть некий источник данных, который Вам выдает их кусками, и Вам совершенно все равно откуда он их берет. Под ним может скрывать как массив в оперативной памяти, как файл на жестком диске, так и SQL база данных. Вы сами данные никуда не сохраняете, оперативную память экономите."
   ]
  },
  {
   "cell_type": "markdown",
   "metadata": {},
   "source": [
    "Если Вам понравилась идея с генераторами, то Вы можете реализовать свой, используя прототип batch_generator. В нем Вам нужно выдавать батчи признаков и ответов для каждой новой итерации спуска. Если не понравилась идея, то можете реализовывать SGD или mini-batch GD без генераторов."
   ]
  },
  {
   "cell_type": "code",
   "execution_count": 15,
   "metadata": {
    "collapsed": true,
    "jupyter": {
     "outputs_hidden": true
    }
   },
   "outputs": [],
   "source": [
    "from sklearn import utils\n",
    "import numpy as np\n",
    "def batch_generator(X, y, shuffle=True, batch_size=1):\n",
    "    \"\"\"\n",
    "    Гератор новых батчей для обучения\n",
    "    X          - матрица объекты-признаки\n",
    "    y_batch    - вектор ответов\n",
    "    shuffle    - нужно ли случайно перемешивать выборку\n",
    "    batch_size - размер батча ( 1 это SGD, > 1 mini-batch GD)\n",
    "    Генерирует подвыборку для итерации спуска (X_batch, y_batch)\n",
    "    \"\"\"\n",
    "    if shuffle:\n",
    "        X, y = utils.shuffle(X, y)\n",
    "    for i in np.arange(0, X.shape[0], batch_size):\n",
    "        yield (X[i:i+batch_size], y[i:i+batch_size])"
   ]
  },
  {
   "cell_type": "code",
   "execution_count": 16,
   "metadata": {
    "collapsed": true,
    "jupyter": {
     "outputs_hidden": true
    }
   },
   "outputs": [],
   "source": [
    "#%%pycodestyle\n",
    "\n",
    "def sigmoid(x):\n",
    "    \"\"\"\n",
    "    Вычисляем значение сигмоида.\n",
    "    X - выход линейной модели\n",
    "    \"\"\"\n",
    "    return 1/(1+np.exp(-x))\n",
    "\n",
    "\n",
    "from sklearn.base import BaseEstimator, ClassifierMixin\n",
    "\n",
    "class MySGDClassifier(BaseEstimator, ClassifierMixin):\n",
    "    \n",
    "    def __init__(self, batch_generator,\n",
    "                C=1, \n",
    "                C1 = 0.1,\n",
    "                alpha=0.01, \n",
    "                max_epoch=50, \n",
    "                batch_size=25, \n",
    "                model_type='lin_reg'):\n",
    "        \"\"\"\n",
    "        batch_generator -- функция генератор, которой будем создавать батчи\n",
    "        C - коэф. регуляризации\n",
    "        alpha - скорость спуска\n",
    "        max_epoch - максимальное количество эпох\n",
    "        model_type - тим модели, lin_reg или log_reg\n",
    "        \"\"\"\n",
    "        \n",
    "        self.C = C\n",
    "        self.C1 = C1\n",
    "        self.alpha = alpha\n",
    "        self.max_epoch = max_epoch\n",
    "        self.batch_size = batch_size\n",
    "        self.batch_generator = batch_generator\n",
    "        self.errors_log = {'iter' : [], 'loss' : []}  \n",
    "        self.model_type = model_type\n",
    "        \n",
    "    def calc_loss(self, X_batch, y_batch):\n",
    "        \"\"\"\n",
    "        Считаем функцию потерь по батчу \n",
    "        X_batch - матрица объекты-признаки по батчу\n",
    "        y_batch - вектор ответов по батчу\n",
    "        Не забудте тип модели (линейная или логистическая регрессия)!\n",
    "        \"\"\"\n",
    "        y_batch = y_batch.reshape((-1,1))\n",
    "        pred = X_batch.dot(self.weights)\n",
    "        if self.model_type == 'lin_reg':\n",
    "            loss =  (pred - y_batch).T.dot(pred - y_batch)\n",
    "        if self.model_type == 'log_reg':\n",
    "            loss = np.sum(-y_batch*np.log(sigmoid(pred)) - (1 - y_batch)*np.log(1 - sigmoid(pred)))\n",
    "        loss = loss / X_batch.shape[0] + 1/self.C * self.weights.T.dot(self.weights) + 1 / self.C1 * self.weights\n",
    "        return loss\n",
    "    \n",
    "    def calc_loss_grad(self, X_batch, y_batch):\n",
    "        \"\"\"\n",
    "        Считаем  градиент функции потерь по батчу (то что Вы вывели в задании 1)\n",
    "        X_batch - матрица объекты-признаки по батчу\n",
    "        y_batch - вектор ответов по батчу\n",
    "        Не забудте тип модели (линейная или логистическая регрессия)!\n",
    "        \"\"\"\n",
    "        y_batch = y_batch.reshape((-1,1))\n",
    "        pred = X_batch.dot(self.weights)\n",
    "        if self.model_type == 'lin_reg': \n",
    "            cur = X_batch.T.dot(pred - y_batch) * 2 #2((w, x) - y)*x\n",
    "        if self.model_type == 'log_reg':\n",
    "            cur = X_batch.T.dot(sigmoid(pred) - y_batch) # -y(1 - si(xw))x + (1-y)si(xw)x = (si(xw) - y)x\n",
    "        loss_grad = cur/ X_batch.shape[0] + 2 / self.C * self.weights + 1 / self.C1\n",
    "        return loss_grad\n",
    "    \n",
    "    def update_weights(self, new_grad):\n",
    "        \"\"\"\n",
    "        Обновляем вектор весов\n",
    "        new_grad - градиент по батчу\n",
    "        \"\"\"\n",
    "        self.weights -= self.alpha*new_grad\n",
    "    \n",
    "    def fit(self, X, y):\n",
    "        '''\n",
    "        Обучение модели\n",
    "        X - матрица объекты-признаки\n",
    "        y - вектор ответов\n",
    "        '''\n",
    "        \n",
    "        alpha = self.alpha\n",
    "        N = X.shape[1] + 1\n",
    "        self.weights = np.random.uniform(-1/N, 1/N, N).reshape((-1, 1))\n",
    "        for n in range(0, self.max_epoch):\n",
    "            new_epoch_generator = self.batch_generator(X, y, batch_size = self.batch_size)\n",
    "            for batch_num, (X_batch, y_batch) in enumerate(new_epoch_generator):\n",
    "                X_batch = np.append(X_batch, np.ones((X_batch.shape[0], 1)), axis=1)\n",
    "                batch_loss = self.calc_loss(X_batch, y_batch)\n",
    "                batch_grad = self.calc_loss_grad(X_batch, y_batch)\n",
    "                self.update_weights(batch_grad)\n",
    "                self.errors_log['iter'].append(batch_num)\n",
    "                self.errors_log['loss'].append(batch_loss)\n",
    "            self.alpha = alpha/(n + 1)**0.5\n",
    "        self.alpha = alpha\n",
    "        return self\n",
    "        \n",
    "    def predict(self, X):\n",
    "        '''\n",
    "        Предсказание класса\n",
    "        X - матрица объекты-признаки\n",
    "        Не забудте тип модели (линейная или логистическая регрессия)!\n",
    "        '''\n",
    "        X = np.append(X, np.ones((X.shape[0], 1)), axis=1)\n",
    "        pred = X.dot(self.weights)\n",
    "        if self.model_type == 'log_reg':\n",
    "            pred = sigmoid(pred)\n",
    "        return np.round(pred).astype('int')"
   ]
  },
  {
   "cell_type": "markdown",
   "metadata": {},
   "source": [
    "Запустите обе регрессии на синтетических данных. \n",
    "\n",
    "\n",
    "Выведите полученные веса и нарисуйте разделяющую границу между классами (используйте только первых два веса для первых двух признаков X[:,0], X[:,1] для отображения в 2d пространство ).  "
   ]
  },
  {
   "cell_type": "code",
   "execution_count": 17,
   "metadata": {
    "collapsed": true,
    "jupyter": {
     "outputs_hidden": true
    }
   },
   "outputs": [],
   "source": [
    "#sigmoid(0) = 0.5 -> x*w[0] + y*w[1] + w[2] = 0 -> y = ...\n",
    "# z = 0.5 = x*w[0] + y*w[1] + w[2] -> y = ...\n",
    "def plot_decision_boundary(clf):\n",
    "    x = np.linspace(-5, 8, num=2)\n",
    "    if clf.model_type == 'log_reg':\n",
    "        y = (-clf.weights[0] * x - clf.weights[2]) / clf.weights[1] \n",
    "    if clf.model_type == 'lin_reg':\n",
    "        y = (0.5-clf.weights[0] * x - clf.weights[2]) / clf.weights[1] \n",
    "    plt.plot(x, y, label=clf.model_type)"
   ]
  },
  {
   "cell_type": "code",
   "execution_count": 108,
   "metadata": {},
   "outputs": [
    {
     "name": "stdout",
     "output_type": "stream",
     "text": [
      "Linear regression weights:\t[[ 0.12143156 -0.09356377  0.01224355]]\n",
      "\n",
      "Logistic regression weights:\t[[ 1.84455518 -1.86912008 -7.54520692]]\n"
     ]
    },
    {
     "name": "stderr",
     "output_type": "stream",
     "text": [
      "/var/folders/hn/27s2_wp90fn1jnqs60qbkgy40000gn/T/ipykernel_44582/3181138397.py:51: RuntimeWarning: divide by zero encountered in log\n",
      "  loss = np.sum(-y_batch*np.log(sigmoid(pred)) - (1 - y_batch)*np.log(1 - sigmoid(pred)))\n",
      "/var/folders/hn/27s2_wp90fn1jnqs60qbkgy40000gn/T/ipykernel_44582/3181138397.py:51: RuntimeWarning: invalid value encountered in multiply\n",
      "  loss = np.sum(-y_batch*np.log(sigmoid(pred)) - (1 - y_batch)*np.log(1 - sigmoid(pred)))\n"
     ]
    },
    {
     "data": {
      "text/plain": [
       "<matplotlib.legend.Legend at 0x13d1364a0>"
      ]
     },
     "execution_count": 108,
     "metadata": {},
     "output_type": "execute_result"
    },
    {
     "data": {
      "image/png": "[encoded data removed]",
      "text/plain": [
       "<Figure size 864x360 with 1 Axes>"
      ]
     },
     "metadata": {},
     "output_type": "display_data"
    }
   ],
   "source": [
    "np.random.seed(0)\n",
    "\n",
    "C1 = np.array([[0., -0.8], [1.5, 0.8]])\n",
    "C2 = np.array([[1., -0.7], [2., 0.7]])\n",
    "gauss1 = np.dot(np.random.randn(200, 2) + np.array([5, 3]), C1)\n",
    "gauss2 = np.dot(np.random.randn(200, 2) + np.array([1.5, 0]), C2)\n",
    "\n",
    "X = np.vstack([gauss1, gauss2])\n",
    "y = np.r_[np.ones(200), np.zeros(200)]\n",
    "\n",
    "reg = MySGDClassifier(batch_generator=batch_generator, C=1, C1 = 10000,\n",
    "                             alpha=0.1, max_epoch=100, model_type='lin_reg')\n",
    "reg.fit(X, y)\n",
    "print('Linear regression weights:\\t{}'.format(np.reshape(reg.weights, (1, -1))), end='\\n\\n')\n",
    "plot_decision_boundary(reg)\n",
    "\n",
    "log = MySGDClassifier(batch_generator=batch_generator, C=10000, C1 = 10000,\n",
    "                             alpha=10, batch_size=400, model_type='log_reg')\n",
    "log.fit(X, y)\n",
    "print('Logistic regression weights:\\t{}'.format(np.reshape(log.weights, (1,-1))))\n",
    "plot_decision_boundary(log)\n",
    "\n",
    "plt.scatter(X[:, 0], X[:, 1], c=y)\n",
    "plt.legend()"
   ]
  },
  {
   "cell_type": "markdown",
   "metadata": {},
   "source": [
    "Далее будем анализировать Ваш алгоритм. \n",
    "Для этих заданий используйте датасет ниже."
   ]
  },
  {
   "cell_type": "code",
   "execution_count": 19,
   "metadata": {
    "collapsed": true,
    "jupyter": {
     "outputs_hidden": true
    }
   },
   "outputs": [],
   "source": [
    "from sklearn.datasets import make_classification"
   ]
  },
  {
   "cell_type": "code",
   "execution_count": 119,
   "metadata": {
    "collapsed": true,
    "jupyter": {
     "outputs_hidden": true
    }
   },
   "outputs": [],
   "source": [
    "X, y = make_classification(n_samples=100000, n_features=10, \n",
    "                           n_informative=4, n_redundant=0, \n",
    "                           random_state=123, class_sep=1.0,\n",
    "                           n_clusters_per_class=1)"
   ]
  },
  {
   "cell_type": "markdown",
   "metadata": {},
   "source": [
    "Покажите сходимости обеих регрессией на этом датасете: изобразите график  функции потерь, усредненной по $N$ шагам градиентого спуска, для разных `alpha` (размеров шага). Разные `alpha` расположите на одном графике. \n",
    "\n",
    "$N$ можно брать 10, 50, 100 и т.д. "
   ]
  },
  {
   "cell_type": "code",
   "execution_count": 104,
   "metadata": {
    "collapsed": true,
    "jupyter": {
     "outputs_hidden": true
    }
   },
   "outputs": [
    {
     "name": "stderr",
     "output_type": "stream",
     "text": [
      "/var/folders/hn/27s2_wp90fn1jnqs60qbkgy40000gn/T/ipykernel_44582/3181138397.py:65: RuntimeWarning: overflow encountered in multiply\n",
      "  cur = X_batch.T.dot(pred - y_batch) * 2 #2((w, x) - y)*x\n",
      "/var/folders/hn/27s2_wp90fn1jnqs60qbkgy40000gn/T/ipykernel_44582/3181138397.py:76: RuntimeWarning: invalid value encountered in subtract\n",
      "  self.weights -= self.alpha*new_grad\n"
     ]
    },
    {
     "data": {
      "text/plain": [
       "(Text(0.5, 1.0, 'linear regression'), Text(0.5, 1.0, 'logistic regression'))"
      ]
     },
     "execution_count": 104,
     "metadata": {},
     "output_type": "execute_result"
    },
    {
     "data": {
      "image/png": "[encoded data removed]",
      "text/plain": [
       "<Figure size 1008x360 with 2 Axes>"
      ]
     },
     "metadata": {},
     "output_type": "display_data"
    }
   ],
   "source": [
    "N = 500\n",
    "fig, (reg_plot, log_plot) = plt.subplots(1, 2, figsize=(14, 5))\n",
    "for alpha in np.geomspace(0.01, 0.25, 5):\n",
    "    reg = MySGDClassifier(batch_generator=batch_generator, C=75000, C1 = 550,\n",
    "                                alpha=alpha, max_epoch=70, model_type='lin_reg')\n",
    "    log = MySGDClassifier(batch_generator=batch_generator, C=10000, C1 = 10000,\n",
    "                                alpha=alpha, batch_size=70, model_type='log_reg')\n",
    "\n",
    "    reg.fit(X, y)\n",
    "    x_raxis = np.arange(len(reg.errors_log['loss']) // N)\n",
    "    y_raxis = list(map(np.mean, np.array_split(reg.errors_log['loss'], len(reg.errors_log['loss']) // N)))\n",
    "    reg_plot.plot(x_raxis, y_raxis, label = alpha)\n",
    "\n",
    "    log.fit(X, y)\n",
    "    x_laxis = np.arange(len(log.errors_log['loss']) // N)\n",
    "    y_laxis = list(map(np.mean, np.array_split(log.errors_log['loss'], len(log.errors_log['loss']) // N)))\n",
    "    log_plot.plot(x_laxis, y_laxis, label = alpha)\n",
    "    \n",
    "reg_plot.grid(), log_plot.grid()\n",
    "reg_plot.legend(), log_plot.legend()\n",
    "reg_plot.set_xlabel('learning process'), log_plot.set_xlabel('learning process')\n",
    "reg_plot.set_ylim(0.035, 0.05), log_plot.set_ylim(0.05, 0.10)\n",
    "reg_plot.set_title('linear regression'), log_plot.set_title('logistic regression')"
   ]
  },
  {
   "cell_type": "markdown",
   "metadata": {},
   "source": [
    "Что Вы можете сказать про сходимость метода при различных `alpha`? Какое значение стоит выбирать для лучшей сходимости?"
   ]
  },
  {
   "cell_type": "markdown",
   "metadata": {},
   "source": [
    "Изобразите график среднего значения весов для обеих регрессий в зависимости от коеф. регуляризации С из `np.logspace(3, -3, 10)` "
   ]
  },
  {
   "cell_type": "code",
   "execution_count": 122,
   "metadata": {
    "collapsed": true,
    "jupyter": {
     "outputs_hidden": true
    }
   },
   "outputs": [
    {
     "name": "stderr",
     "output_type": "stream",
     "text": [
      "/var/folders/hn/27s2_wp90fn1jnqs60qbkgy40000gn/T/ipykernel_44582/3181138397.py:52: RuntimeWarning: overflow encountered in multiply\n",
      "  loss = loss / X_batch.shape[0] + 1/self.C * self.weights.T.dot(self.weights) + 1 / self.C1 * self.weights\n",
      "/var/folders/hn/27s2_wp90fn1jnqs60qbkgy40000gn/T/ipykernel_44582/3181138397.py:68: RuntimeWarning: overflow encountered in multiply\n",
      "  loss_grad = cur/ X_batch.shape[0] + 2 / self.C * self.weights + 1 / self.C1\n",
      "/var/folders/hn/27s2_wp90fn1jnqs60qbkgy40000gn/T/ipykernel_44582/3181138397.py:51: RuntimeWarning: divide by zero encountered in log\n",
      "  loss = np.sum(-y_batch*np.log(sigmoid(pred)) - (1 - y_batch)*np.log(1 - sigmoid(pred)))\n",
      "/var/folders/hn/27s2_wp90fn1jnqs60qbkgy40000gn/T/ipykernel_44582/3181138397.py:51: RuntimeWarning: invalid value encountered in multiply\n",
      "  loss = np.sum(-y_batch*np.log(sigmoid(pred)) - (1 - y_batch)*np.log(1 - sigmoid(pred)))\n",
      "/var/folders/hn/27s2_wp90fn1jnqs60qbkgy40000gn/T/ipykernel_44582/3181138397.py:8: RuntimeWarning: overflow encountered in exp\n",
      "  return 1/(1+np.exp(-x))\n",
      "/var/folders/hn/27s2_wp90fn1jnqs60qbkgy40000gn/T/ipykernel_44582/3181138397.py:65: RuntimeWarning: overflow encountered in multiply\n",
      "  cur = X_batch.T.dot(pred - y_batch) * 2 #2((w, x) - y)*x\n"
     ]
    },
    {
     "data": {
      "text/plain": [
       "(Text(0.5, 1.0, 'linear regression'), Text(0.5, 1.0, 'logistic regression'))"
      ]
     },
     "execution_count": 122,
     "metadata": {},
     "output_type": "execute_result"
    },
    {
     "data": {
      "image/png": "[encoded data removed]",
      "text/plain": [
       "<Figure size 1008x360 with 2 Axes>"
      ]
     },
     "metadata": {},
     "output_type": "display_data"
    }
   ],
   "source": [
    "fig, (reg_plot, log_plot) = plt.subplots(1, 2, figsize=(14, 5))\n",
    "x_axis = np.logspace(3, -3, 10)\n",
    "reg_y_axis, log_y_axis = np.zeros(x_axis.shape[0]), np.zeros(x_axis.shape[0])\n",
    "for i, C in enumerate(x_axis):\n",
    "    reg = MySGDClassifier(batch_generator=batch_generator, C=C, C1 = 550,\n",
    "                                alpha=0.015, max_epoch=100, model_type='lin_reg')\n",
    "    log = MySGDClassifier(batch_generator=batch_generator, C=C, C1 = 10000,\n",
    "                                alpha=0.01, batch_size=100, model_type='log_reg')\n",
    "\n",
    "    reg.fit(X, y)\n",
    "    reg_y_axis[i] = reg.weights.mean()\n",
    "\n",
    "    log.fit(X, y)\n",
    "    log_y_axis[i] = log.weights.mean()\n",
    "\n",
    "reg_plot.plot(x_axis, reg_y_axis), log_plot.plot(x_axis, log_y_axis)\n",
    "reg_plot.set_xlabel('C'), log_plot.set_xlabel('C')\n",
    "reg_plot.set_ylabel('weights mean')\n",
    "reg_plot.set_title('linear regression'), log_plot.set_title('logistic regression')"
   ]
  },
  {
   "cell_type": "markdown",
   "metadata": {},
   "source": [
    "Довольны ли Вы, насколько сильно уменьшились Ваши веса? "
   ]
  },
  {
   "cell_type": "markdown",
   "metadata": {},
   "source": [
    "# Боевое применение (4  балла)\n",
    "\n",
    "**Защита данной части возможна только при преодолении в проекте бейзлайна Handmade baseline.**"
   ]
  },
  {
   "cell_type": "markdown",
   "metadata": {},
   "source": [
    "Давайте применим модель на итоговом проекте! Датасет сделаем точно таким же образом, как было показано в project_overview.ipynb\n",
    "\n",
    "Применим обе регрессии, подберем для них параметры и сравним качество. Может быть Вы еще одновременно с решением домашней работы подрастете на лидерборде!"
   ]
  },
  {
   "cell_type": "code",
   "execution_count": 23,
   "metadata": {},
   "outputs": [
    {
     "name": "stdout",
     "output_type": "stream",
     "text": [
      "28026\n"
     ]
    }
   ],
   "source": [
    "from pymystem3 import Mystem\n",
    "import string\n",
    "from nltk.corpus import stopwords\n",
    "m = Mystem()\n",
    "\n",
    "def Translator(txt, m):\n",
    "    for i in string.punctuation:\n",
    "        txt = txt.replace(i, \" \")\n",
    "    cur = txt.translate(str.maketrans(' ', ' ',  \"•\"\n",
    "                                                   + '\\n' + '\\t')).lower()\n",
    "    cur = cur.translate(str.maketrans('', '', string.digits))\n",
    "    cur = m.lemmatize(cur)\n",
    "    cur = [word.strip() for word in cur if not word.strip() in stopwords.words('russian')\n",
    "                                               and not word.strip() in stopwords.words('english')\n",
    "                                               and len(word.strip()) > 2\n",
    "                                               and word.strip() != \"none\"\n",
    "                                               and word.strip()[:4] != \"http\"]\n",
    "    return \" \".join(cur)\n",
    "\n",
    "doc_to_title = {}\n",
    "with open('data/docs_titles.tsv') as f:\n",
    "    for num_line, line in enumerate(f):\n",
    "        if num_line == 0:\n",
    "            continue\n",
    "        data = line.strip().split('\\t', 1)\n",
    "        doc_id = int(data[0])\n",
    "        if len(data) == 1:\n",
    "            title = ''\n",
    "        else:\n",
    "            title = data[1]\n",
    "        doc_to_title[doc_id] = Translator(title, m)\n",
    "        \n",
    "for i in doc_to_title:\n",
    "    doc_to_title[i] += \" \" + str(len(doc_to_title[i].split()))\n",
    "    \n",
    "print(len(doc_to_title))"
   ]
  },
  {
   "cell_type": "code",
   "execution_count": 24,
   "metadata": {
    "collapsed": true,
    "jupyter": {
     "outputs_hidden": true
    }
   },
   "outputs": [],
   "source": [
    "import pandas as pd\n",
    "train_data = pd.read_csv('data/train_groups.csv')\n",
    "traingroups_titledata = {}\n",
    "for i in range(len(train_data)):\n",
    "    new_doc = train_data.iloc[i]\n",
    "    doc_group = new_doc['group_id']\n",
    "    doc_id = new_doc['doc_id']\n",
    "    target = new_doc['target']\n",
    "    title = doc_to_title[doc_id]\n",
    "    if doc_group not in traingroups_titledata:\n",
    "        traingroups_titledata[doc_group] = []\n",
    "    traingroups_titledata[doc_group].append([doc_id, title, target])"
   ]
  },
  {
   "cell_type": "code",
   "execution_count": 42,
   "metadata": {},
   "outputs": [
    {
     "data": {
      "text/plain": [
       "'->profit<-'"
      ]
     },
     "execution_count": 42,
     "metadata": {},
     "output_type": "execute_result"
    }
   ],
   "source": [
    "\"\"\"->profit<-\"\"\"\n",
    "# import operator\n",
    "# for group in traingroups_titledata:\n",
    "#     group_dict = {}\n",
    "#     for doc, title, target in traingroups_titledata[group]:\n",
    "#         for i in title.split():\n",
    "#             group_dict[i] = group_dict.get(i, 0) + 1\n",
    "#     golden_title = dict(sorted(group_dict.items(), key=operator.itemgetter(1))[-10:])\n",
    "#     for ind, data in enumerate(traingroups_titledata[group]):\n",
    "#         for k in set(data[1][:-2].split()):\n",
    "#             if k in golden_title:\n",
    "#                 traingroups_titledata[group][ind][1] += \" \" + str(k)"
   ]
  },
  {
   "cell_type": "code",
   "execution_count": 26,
   "metadata": {},
   "outputs": [],
   "source": [
    "from sklearn.feature_extraction.text import TfidfVectorizer\n",
    "from scipy.spatial.distance import pdist, squareform\n",
    "\n",
    "vectorizer = TfidfVectorizer()\n",
    "\n",
    "\n",
    "X, y, groups = [], [], []\n",
    "for group, docs in traingroups_titledata.items():\n",
    "    doc_id, title, target = zip(*docs)\n",
    "    distances = pdist(vectorizer.fit_transform(title).toarray(), 'cosine')\n",
    "    distances[np.where(np.isnan(distances))[0]] = 1.\n",
    "    features = np.sort(squareform(distances))[:, 1:26]\n",
    "    X.extend(features)\n",
    "    y.extend(target)\n",
    "    groups.extend([group] * len(target))\n",
    "X, y, groups = np.array(X), np.array(y), np.array(groups)"
   ]
  },
  {
   "cell_type": "code",
   "execution_count": 27,
   "metadata": {},
   "outputs": [
    {
     "data": {
      "text/plain": [
       "array([[0.        , 0.10138425, 0.28566021, ..., 0.7910627 , 0.79345462,\n",
       "        0.80422719],\n",
       "       [0.42670659, 0.47128599, 0.50420334, ..., 0.91397174, 0.92158149,\n",
       "        0.92269365],\n",
       "       [0.67964911, 0.71212765, 0.71212765, ..., 0.90296145, 0.90475601,\n",
       "        0.90488992],\n",
       "       ...,\n",
       "       [1.        , 1.        , 1.        , ..., 1.        , 1.        ,\n",
       "        1.        ],\n",
       "       [0.25785855, 1.        , 1.        , ..., 1.        , 1.        ,\n",
       "        1.        ],\n",
       "       [0.86470362, 0.87857726, 0.88725913, ..., 1.        , 1.        ,\n",
       "        1.        ]])"
      ]
     },
     "execution_count": 27,
     "metadata": {},
     "output_type": "execute_result"
    }
   ],
   "source": [
    "X"
   ]
  },
  {
   "cell_type": "markdown",
   "metadata": {},
   "source": [
    "Подберите размер батча для обучения. Линейная модель не должна учиться дольше нескольких минут. \n",
    "\n",
    "Не забывайте использовать скейлер!"
   ]
  },
  {
   "cell_type": "code",
   "execution_count": 28,
   "metadata": {
    "tags": []
   },
   "outputs": [],
   "source": [
    "from sklearn.metrics import f1_score\n",
    "from sklearn.preprocessing import StandardScaler\n",
    "from sklearn.model_selection import GridSearchCV, GroupKFold"
   ]
  },
  {
   "cell_type": "code",
   "execution_count": 29,
   "metadata": {
    "collapsed": true,
    "jupyter": {
     "outputs_hidden": true
    }
   },
   "outputs": [
    {
     "name": "stderr",
     "output_type": "stream",
     "text": [
      "/var/folders/hn/27s2_wp90fn1jnqs60qbkgy40000gn/T/ipykernel_44582/3181138397.py:51: RuntimeWarning: divide by zero encountered in log\n",
      "  loss = np.sum(-y_batch*np.log(sigmoid(pred)) - (1 - y_batch)*np.log(1 - sigmoid(pred)))\n",
      "/var/folders/hn/27s2_wp90fn1jnqs60qbkgy40000gn/T/ipykernel_44582/3181138397.py:51: RuntimeWarning: invalid value encountered in multiply\n",
      "  loss = np.sum(-y_batch*np.log(sigmoid(pred)) - (1 - y_batch)*np.log(1 - sigmoid(pred)))\n",
      "/var/folders/hn/27s2_wp90fn1jnqs60qbkgy40000gn/T/ipykernel_44582/3181138397.py:8: RuntimeWarning: overflow encountered in exp\n",
      "  return 1/(1+np.exp(-x))\n"
     ]
    },
    {
     "name": "stdout",
     "output_type": "stream",
     "text": [
      "CPU times: user 943 ms, sys: 12.1 ms, total: 955 ms\n",
      "Wall time: 950 ms\n"
     ]
    },
    {
     "data": {
      "text/plain": [
       "0.8118466898954705"
      ]
     },
     "execution_count": 29,
     "metadata": {},
     "output_type": "execute_result"
    }
   ],
   "source": [
    "train_indices, test_indices = next(GroupKFold(n_splits=15).split(X, y, groups))\n",
    "scaler = StandardScaler()\n",
    "scaler.fit(X)\n",
    "\n",
    "my_clf = MySGDClassifier(batch_generator=batch_generator, C=100000, alpha=0.0035,\n",
    "                         max_epoch=20, batch_size=20, model_type='log_reg')\n",
    "X_train, y_train = X[train_indices], y[train_indices]\n",
    "X_test, y_test = X[test_indices], y[test_indices]\n",
    "X_train, X_test = scaler.transform(X_train), scaler.transform(X_test)\n",
    "%time my_clf.fit(X_train, y_train)\n",
    "f1_score(y_test, my_clf.predict(X_test))"
   ]
  },
  {
   "cell_type": "markdown",
   "metadata": {},
   "source": [
    "Разбейте данные на обучение и валидацию. Подберите параметры C, alpha, max_epoch, model_type на валидации (Вы же помните, как правильно в этой задаче делать валидацию?)"
   ]
  },
  {
   "cell_type": "code",
   "execution_count": 30,
   "metadata": {
    "collapsed": true,
    "jupyter": {
     "outputs_hidden": true
    }
   },
   "outputs": [
    {
     "name": "stdout",
     "output_type": "stream",
     "text": [
      "CPU times: user 9.43 s, sys: 240 ms, total: 9.67 s\n",
      "Wall time: 47.9 s\n"
     ]
    },
    {
     "data": {
      "text/plain": [
       "{'C': 75000, 'C1': 550, 'alpha': 0.015, 'max_epoch': 500}"
      ]
     },
     "execution_count": 30,
     "metadata": {},
     "output_type": "execute_result"
    }
   ],
   "source": [
    "cross_validation = GroupKFold(n_splits=5).split(X, y, groups)\n",
    "my_clf = MySGDClassifier(batch_generator=batch_generator)\n",
    "params = {\n",
    "    'C': [65000, 75000],\n",
    "    'C1': [550, 530, 540],\n",
    "    'alpha': [0.015],\n",
    "    'max_epoch': [500]\n",
    "}\n",
    "grid_search = GridSearchCV(my_clf, param_grid=params,\n",
    "                           cv=cross_validation, n_jobs=-1)\n",
    "%time grid_search.fit(X, y)\n",
    "\n",
    "grid_search.best_params_"
   ]
  },
  {
   "cell_type": "markdown",
   "metadata": {},
   "source": [
    "Подберите порог линейной модели, по достижении которого, Вы будете относить объект к классу 1. Вспомните, какую метрику мы оптимизируем в соревновании.  Как тогда правильно подобрать порог?"
   ]
  },
  {
   "cell_type": "code",
   "execution_count": 31,
   "metadata": {
    "collapsed": true,
    "jupyter": {
     "outputs_hidden": true
    }
   },
   "outputs": [],
   "source": [
    "test_data = pd.read_csv('data/test_groups.csv')\n",
    "testgroups_titledata = {}\n",
    "for i in range(len(test_data)):\n",
    "    new_doc = test_data.iloc[i]\n",
    "    doc_group = new_doc['group_id']\n",
    "    doc_id = new_doc['doc_id']\n",
    "    title = doc_to_title[doc_id]\n",
    "    if doc_group not in testgroups_titledata:\n",
    "        testgroups_titledata[doc_group] = []\n",
    "    testgroups_titledata[doc_group].append([doc_id, title])"
   ]
  },
  {
   "cell_type": "code",
   "execution_count": 34,
   "metadata": {},
   "outputs": [
    {
     "data": {
      "text/plain": [
       "[[6710, 'прописывать админка друг youtube 4 админка прописывать'],\n",
       " [4030,\n",
       "  'скачать sgl доработка слива мода mysql role play готовый сервер samp sampe samp gta 14 gta скачать сервер'],\n",
       " [5561,\n",
       "  'прописывать админка counter strike каталог статья игровой сообщество dream counter strike портал 12 прописывать админка'],\n",
       " [4055, 'прописывать простой админка 3 админка прописывать'],\n",
       " [4247, 'подбор админ сервер код архив форум ozone 7 форум сервер']]"
      ]
     },
     "execution_count": 34,
     "metadata": {},
     "output_type": "execute_result"
    }
   ],
   "source": [
    "import operator\n",
    "for group in testgroups_titledata:\n",
    "    group_dict = {}\n",
    "    for doc, title in testgroups_titledata[group]:\n",
    "        for i in title.split():\n",
    "            group_dict[i] = group_dict.get(i, 0) + 1\n",
    "    golden_title = dict(sorted(group_dict.items(), key=operator.itemgetter(1))[-10:])\n",
    "    for ind, data in enumerate(testgroups_titledata[group]):\n",
    "        for k in set(data[1][:-2].split()):\n",
    "            if k in golden_title:\n",
    "                testgroups_titledata[group][ind][1] += \" \" + str(k)\n",
    "testgroups_titledata[130][:5]"
   ]
  },
  {
   "cell_type": "code",
   "execution_count": 35,
   "metadata": {
    "collapsed": true,
    "jupyter": {
     "outputs_hidden": true
    }
   },
   "outputs": [],
   "source": [
    "X_test, groups_test = [], []\n",
    "for group, docs in testgroups_titledata.items():\n",
    "    doc_id, title = zip(*docs)\n",
    "    distances = pdist(vectorizer.fit_transform(title).toarray(), 'cosine')\n",
    "    distances[np.where(np.isnan(distances))[0]] = 1.\n",
    "    features = np.sort(squareform(distances))[:, 1:26]\n",
    "    X_test.extend(features)\n",
    "    groups_test.extend([group] * len(doc_id))\n",
    "X_test, groups_test = np.array(X_test), np.array(groups_test)"
   ]
  },
  {
   "cell_type": "code",
   "execution_count": 36,
   "metadata": {},
   "outputs": [],
   "source": [
    "from csv import DictWriter\n",
    "\n",
    "\n",
    "a = grid_search.predict(X_test).flatten()\n",
    "with open('data/02.csv', 'w') as f:\n",
    "    fieldnames = ['pair_id', 'target']\n",
    "    writer = DictWriter(f, fieldnames=fieldnames)\n",
    "    writer.writeheader()\n",
    "    i = 11691\n",
    "    for elem in a:\n",
    "        writer.writerow({'pair_id': str(i), 'target': str(elem)})\n",
    "        i += 1"
   ]
  },
  {
   "cell_type": "code",
   "execution_count": 37,
   "metadata": {},
   "outputs": [
    {
     "data": {
      "text/plain": [
       "(array([10668.,     0.,     0.,     0.,     0.,     0.,     0.,     0.,\n",
       "            0.,  5959.]),\n",
       " array([0. , 0.1, 0.2, 0.3, 0.4, 0.5, 0.6, 0.7, 0.8, 0.9, 1. ]),\n",
       " <BarContainer object of 10 artists>)"
      ]
     },
     "execution_count": 37,
     "metadata": {},
     "output_type": "execute_result"
    },
    {
     "data": {
      "image/png": "[encoded data removed]",
      "text/plain": [
       "<Figure size 864x360 with 1 Axes>"
      ]
     },
     "metadata": {},
     "output_type": "display_data"
    }
   ],
   "source": [
    "def f(x):\n",
    "    if x == 2:\n",
    "        return 1\n",
    "    else:\n",
    "        return x\n",
    "df = pd.read_csv('data/02.csv')\n",
    "df[\"target\"] = df[\"target\"].apply(lambda x : f(x))\n",
    "df.to_csv(\"data/02.csv\", index=False)\n",
    "plt.hist(df.target)"
   ]
  },
  {
   "cell_type": "markdown",
   "metadata": {},
   "source": [
    "С лучшими параметрами на валидации сделайте предсказание на тестовом множестве, отправьте его на проверку на платформу kaggle. Убедитесь, что Вы смогли побить public score первого бейзлайна."
   ]
  },
  {
   "cell_type": "markdown",
   "metadata": {},
   "source": [
    "** При сдаче домашки Вам необходимо кроме ссылки на ноутбук показать Ваш ник на kaggle, под которым Вы залили решение, которое побило Handmade baseline. **"
   ]
  },
  {
   "cell_type": "code",
   "execution_count": 40,
   "metadata": {
    "collapsed": true,
    "jupyter": {
     "outputs_hidden": true
    }
   },
   "outputs": [
    {
     "data": {
      "text/plain": [
       "{'блог',\n",
       " 'видео',\n",
       " 'журнал',\n",
       " 'звезда',\n",
       " 'зритель',\n",
       " 'интернет',\n",
       " 'комментарий',\n",
       " 'пользователь',\n",
       " 'портал',\n",
       " 'публикация',\n",
       " 'реклама',\n",
       " 'рекламный',\n",
       " 'ролик',\n",
       " 'сайт',\n",
       " 'сеть',\n",
       " 'социальный',\n",
       " 'страница',\n",
       " 'форум',\n",
       " 'фотография',\n",
       " 'шоу'}"
      ]
     },
     "execution_count": 40,
     "metadata": {},
     "output_type": "execute_result"
    }
   ],
   "source": [
    "from model import word_generator\n",
    "word_generator([\"инстаграм\"], num=20)"
   ]
  },
  {
   "cell_type": "markdown",
   "metadata": {},
   "source": [
    "<h2>Kaggle: esjxjc(Puseferg)</h2>"
   ]
  },
  {
   "cell_type": "markdown",
   "metadata": {},
   "source": [
    "# Фидбек (бесценно)"
   ]
  },
  {
   "cell_type": "markdown",
   "metadata": {},
   "source": [
    "* Какие аспекты обучения линейных моделей Вам показались непонятными? Какое место стоит дополнительно объяснить?"
   ]
  },
  {
   "cell_type": "markdown",
   "metadata": {},
   "source": [
    "Для меня важно было скорее понять где у меня пробелы в знаниях, это уже дело не простое. Восполнять их лучше самостоятельно, так как сам себя человек знает лучше, чем кто-либо другой."
   ]
  },
  {
   "cell_type": "markdown",
   "metadata": {},
   "source": [
    "* Здесь Вы можете оставить отзыв о этой домашней работе или о всем курсе.   "
   ]
  },
  {
   "cell_type": "markdown",
   "metadata": {},
   "source": [
    "*** ВАШ ОТЗЫВ ЗДЕСЬ***"
   ]
  },
  {
   "cell_type": "code",
   "execution_count": null,
   "metadata": {},
   "outputs": [],
   "source": []
  },
  {
   "cell_type": "code",
   "execution_count": null,
   "metadata": {},
   "outputs": [],
   "source": []
  },
  {
   "cell_type": "code",
   "execution_count": null,
   "metadata": {
    "collapsed": true,
    "jupyter": {
     "outputs_hidden": true
    }
   },
   "outputs": [],
   "source": []
  }
 ],
 "metadata": {
  "anaconda-cloud": {},
  "kernelspec": {
   "display_name": "Python 3",
   "language": "python",
   "name": "python3"
  },
  "language_info": {
   "codemirror_mode": {
    "name": "ipython",
    "version": 3
   },
   "file_extension": ".py",
   "mimetype": "text/x-python",
   "name": "python",
   "nbconvert_exporter": "python",
   "pygments_lexer": "ipython3",
   "version": "3.10.1"
  },
  "nav_menu": {},
  "toc": {
   "colors": {
    "hover_highlight": "#DAA520",
    "navigate_num": "#000000",
    "navigate_text": "#333333",
    "running_highlight": "#FF0000",
    "selected_highlight": "#FFD700",
    "sidebar_border": "#EEEEEE",
    "wrapper_background": "#FFFFFF"
   },
   "moveMenuLeft": true,
   "nav_menu": {
    "height": "402px",
    "width": "253px"
   },
   "navigate_menu": true,
   "number_sections": false,
   "sideBar": true,
   "threshold": 4,
   "toc_cell": false,
   "toc_section_display": "block",
   "toc_window_display": true,
   "widenNotebook": false
  }
 },
 "nbformat": 4,
 "nbformat_minor": 4
}
